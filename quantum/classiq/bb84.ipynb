{
 "cells": [
  {
   "cell_type": "code",
   "execution_count": 1,
   "metadata": {},
   "outputs": [
    {
     "name": "stdout",
     "output_type": "stream",
     "text": [
      "Opening: https://platform.classiq.io/circuit/2uvlJtxrQM0RntSElu3BngWzEaE?login=True&version=0.73.0\n",
      "Quantum Circuit Simulation:\n",
      "[{'meas': 167}: 280, {'meas': 255}: 272, {'meas': 231}: 263, {'meas': 247}: 262, {'meas': 191}: 253, {'meas': 183}: 253, {'meas': 239}: 238, {'meas': 175}: 227]\n"
     ]
    }
   ],
   "source": [
    "from classiq import *\n",
    "\n",
    "@qfunc\n",
    "def main() -> None:\n",
    "    \"\"\"\n",
    "    Quantum circuit matching the specific gate pattern\n",
    "    \"\"\"\n",
    "    # Create quantum register\n",
    "    q = QArray[QBit]()\n",
    "    \n",
    "    # Allocate 8 qubits\n",
    "    allocate(8, q)\n",
    "    \n",
    "    # Apply gates according to the circuit diagram\n",
    "    # First column of green-blue gates\n",
    "    \n",
    "    X(q[0])\n",
    "    H(q[0])\n",
    "    H(q[0])\n",
    "    \n",
    "    X(q[1])\n",
    "    H(q[1])\n",
    "    H(q[1])\n",
    "\n",
    "    X(q[2])\n",
    "    H(q[2])\n",
    "    H(q[2])\n",
    "\n",
    "    X(q[3])\n",
    "    H(q[3])\n",
    "\n",
    "    X(q[4])\n",
    "    H(q[4])\n",
    "\n",
    "    X(q[5])\n",
    "\n",
    "    H(q[6])\n",
    "    \n",
    "    X(q[7])\n",
    "    H(q[7])\n",
    "    H(q[7])\n",
    "\n",
    "\n",
    "    \n",
    "    # Measurement gates at the end\n",
    "    # These are typically implied in Classiq, so no explicit measurement needed\n",
    "\n",
    "# Create the quantum model\n",
    "qmod = create_model(main)\n",
    "\n",
    "# Synthesize the circuit\n",
    "qprog = synthesize(qmod)\n",
    "\n",
    "# Visualize the circuit\n",
    "show(qprog)\n",
    "\n",
    "# Execute the quantum program\n",
    "job = execute(qprog)\n",
    "\n",
    "# Print results\n",
    "print(\"Quantum Circuit Simulation:\")\n",
    "results = job.get_sample_result().parsed_counts\n",
    "print(results)"
   ]
  }
 ],
 "metadata": {
  "kernelspec": {
   "display_name": "venv",
   "language": "python",
   "name": "python3"
  },
  "language_info": {
   "codemirror_mode": {
    "name": "ipython",
    "version": 3
   },
   "file_extension": ".py",
   "mimetype": "text/x-python",
   "name": "python",
   "nbconvert_exporter": "python",
   "pygments_lexer": "ipython3",
   "version": "3.11.5"
  }
 },
 "nbformat": 4,
 "nbformat_minor": 2
}
