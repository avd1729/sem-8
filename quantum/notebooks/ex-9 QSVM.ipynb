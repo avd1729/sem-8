{
 "cells": [
  {
   "cell_type": "code",
   "execution_count": null,
   "id": "2a63147e",
   "metadata": {},
   "outputs": [],
   "source": [
    "# Import necessary libraries\n",
    "import pennylane as qml\n",
    "from pennylane import numpy as np\n",
    "import pandas as pd\n",
    "from sklearn import datasets\n",
    "from sklearn.decomposition import PCA\n",
    "from sklearn.preprocessing import StandardScaler\n",
    "from sklearn.model_selection import train_test_split\n",
    "from sklearn.svm import SVC\n",
    "from sklearn.feature_selection import SelectKBest, f_classif\n",
    "import matplotlib.pyplot as plt"
   ]
  },
  {
   "cell_type": "code",
   "execution_count": 131,
   "id": "b8942a0e",
   "metadata": {},
   "outputs": [],
   "source": [
    "# Load cancer dataset from sklearn\n",
    "cancer = datasets.load_breast_cancer()\n",
    "X = cancer.data\n",
    "y = cancer.target"
   ]
  },
  {
   "cell_type": "code",
   "execution_count": 132,
   "id": "bb7f5f59",
   "metadata": {},
   "outputs": [
    {
     "name": "stdout",
     "output_type": "stream",
     "text": [
      ".. _breast_cancer_dataset:\n",
      "\n",
      "Breast cancer wisconsin (diagnostic) dataset\n",
      "--------------------------------------------\n",
      "\n",
      "**Data Set Characteristics:**\n",
      "\n",
      ":Number of Instances: 569\n",
      "\n",
      ":Number of Attributes: 30 numeric, predictive attributes and the class\n",
      "\n",
      ":Attribute Information:\n",
      "    - radius (mean of distances from center to points on the perimeter)\n",
      "    - texture (standard deviation of gray-scale values)\n",
      "    - perimeter\n",
      "    - area\n",
      "    - smoothness (local variation in radius lengths)\n",
      "    - compactness (perimeter^2 / area - 1.0)\n",
      "    - concavity (severity of concave portions of the contour)\n",
      "    - concave points (number of concave portions of the contour)\n",
      "    - symmetry\n",
      "    - fractal dimension (\"coastline approximation\" - 1)\n",
      "\n",
      "    The mean, standard error, and \"worst\" or largest (mean of the three\n",
      "    worst/largest values) of these features were computed for each image,\n",
      "    resulting in 30 features.  For instance, field 0 is Mean Radius, field\n",
      "    10 is Radius SE, field 20 is Worst Radius.\n",
      "\n",
      "    - class:\n",
      "            - WDBC-Malignant\n",
      "            - WDBC-Benign\n",
      "\n",
      ":Summary Statistics:\n",
      "\n",
      "===================================== ====== ======\n",
      "                                        Min    Max\n",
      "===================================== ====== ======\n",
      "radius (mean):                        6.981  28.11\n",
      "texture (mean):                       9.71   39.28\n",
      "perimeter (mean):                     43.79  188.5\n",
      "area (mean):                          143.5  2501.0\n",
      "smoothness (mean):                    0.053  0.163\n",
      "compactness (mean):                   0.019  0.345\n",
      "concavity (mean):                     0.0    0.427\n",
      "concave points (mean):                0.0    0.201\n",
      "symmetry (mean):                      0.106  0.304\n",
      "fractal dimension (mean):             0.05   0.097\n",
      "radius (standard error):              0.112  2.873\n",
      "texture (standard error):             0.36   4.885\n",
      "perimeter (standard error):           0.757  21.98\n",
      "area (standard error):                6.802  542.2\n",
      "smoothness (standard error):          0.002  0.031\n",
      "compactness (standard error):         0.002  0.135\n",
      "concavity (standard error):           0.0    0.396\n",
      "concave points (standard error):      0.0    0.053\n",
      "symmetry (standard error):            0.008  0.079\n",
      "fractal dimension (standard error):   0.001  0.03\n",
      "radius (worst):                       7.93   36.04\n",
      "texture (worst):                      12.02  49.54\n",
      "perimeter (worst):                    50.41  251.2\n",
      "area (worst):                         185.2  4254.0\n",
      "smoothness (worst):                   0.071  0.223\n",
      "compactness (worst):                  0.027  1.058\n",
      "concavity (worst):                    0.0    1.252\n",
      "concave points (worst):               0.0    0.291\n",
      "symmetry (worst):                     0.156  0.664\n",
      "fractal dimension (worst):            0.055  0.208\n",
      "===================================== ====== ======\n",
      "\n",
      ":Missing Attribute Values: None\n",
      "\n",
      ":Class Distribution: 212 - Malignant, 357 - Benign\n",
      "\n",
      ":Creator:  Dr. William H. Wolberg, W. Nick Street, Olvi L. Mangasarian\n",
      "\n",
      ":Donor: Nick Street\n",
      "\n",
      ":Date: November, 1995\n",
      "\n",
      "This is a copy of UCI ML Breast Cancer Wisconsin (Diagnostic) datasets.\n",
      "https://goo.gl/U2Uwz2\n",
      "\n",
      "Features are computed from a digitized image of a fine needle\n",
      "aspirate (FNA) of a breast mass.  They describe\n",
      "characteristics of the cell nuclei present in the image.\n",
      "\n",
      "Separating plane described above was obtained using\n",
      "Multisurface Method-Tree (MSM-T) [K. P. Bennett, \"Decision Tree\n",
      "Construction Via Linear Programming.\" Proceedings of the 4th\n",
      "Midwest Artificial Intelligence and Cognitive Science Society,\n",
      "pp. 97-101, 1992], a classification method which uses linear\n",
      "programming to construct a decision tree.  Relevant features\n",
      "were selected using an exhaustive search in the space of 1-4\n",
      "features and 1-3 separating planes.\n",
      "\n",
      "The actual linear program used to obtain the separating plane\n",
      "in the 3-dimensional space is that described in:\n",
      "[K. P. Bennett and O. L. Mangasarian: \"Robust Linear\n",
      "Programming Discrimination of Two Linearly Inseparable Sets\",\n",
      "Optimization Methods and Software 1, 1992, 23-34].\n",
      "\n",
      "This database is also available through the UW CS ftp server:\n",
      "\n",
      "ftp ftp.cs.wisc.edu\n",
      "cd math-prog/cpo-dataset/machine-learn/WDBC/\n",
      "\n",
      ".. dropdown:: References\n",
      "\n",
      "  - W.N. Street, W.H. Wolberg and O.L. Mangasarian. Nuclear feature extraction\n",
      "    for breast tumor diagnosis. IS&T/SPIE 1993 International Symposium on\n",
      "    Electronic Imaging: Science and Technology, volume 1905, pages 861-870,\n",
      "    San Jose, CA, 1993.\n",
      "  - O.L. Mangasarian, W.N. Street and W.H. Wolberg. Breast cancer diagnosis and\n",
      "    prognosis via linear programming. Operations Research, 43(4), pages 570-577,\n",
      "    July-August 1995.\n",
      "  - W.H. Wolberg, W.N. Street, and O.L. Mangasarian. Machine learning techniques\n",
      "    to diagnose breast cancer from fine-needle aspirates. Cancer Letters 77 (1994)\n",
      "    163-171.\n",
      "\n"
     ]
    }
   ],
   "source": [
    "print(cancer.DESCR)"
   ]
  },
  {
   "cell_type": "code",
   "execution_count": 133,
   "id": "aeb5a9ba",
   "metadata": {},
   "outputs": [],
   "source": [
    "np.random.seed(42)  # For reproducibility\n",
    "indices = np.random.choice(len(X), size=int(len(X) * 0.1), replace=False)\n",
    "X = X[indices]\n",
    "y = y[indices]"
   ]
  },
  {
   "cell_type": "code",
   "execution_count": 134,
   "id": "f3b773ad",
   "metadata": {},
   "outputs": [
    {
     "name": "stdout",
     "output_type": "stream",
     "text": [
      "First 5 rows of the cancer dataset:\n"
     ]
    },
    {
     "data": {
      "application/vnd.microsoft.datawrangler.viewer.v0+json": {
       "columns": [
        {
         "name": "index",
         "rawType": "int64",
         "type": "integer"
        },
        {
         "name": "mean radius",
         "rawType": "float64",
         "type": "float"
        },
        {
         "name": "mean texture",
         "rawType": "float64",
         "type": "float"
        },
        {
         "name": "mean perimeter",
         "rawType": "float64",
         "type": "float"
        },
        {
         "name": "mean area",
         "rawType": "float64",
         "type": "float"
        },
        {
         "name": "mean smoothness",
         "rawType": "float64",
         "type": "float"
        },
        {
         "name": "mean compactness",
         "rawType": "float64",
         "type": "float"
        },
        {
         "name": "mean concavity",
         "rawType": "float64",
         "type": "float"
        },
        {
         "name": "mean concave points",
         "rawType": "float64",
         "type": "float"
        },
        {
         "name": "mean symmetry",
         "rawType": "float64",
         "type": "float"
        },
        {
         "name": "mean fractal dimension",
         "rawType": "float64",
         "type": "float"
        },
        {
         "name": "radius error",
         "rawType": "float64",
         "type": "float"
        },
        {
         "name": "texture error",
         "rawType": "float64",
         "type": "float"
        },
        {
         "name": "perimeter error",
         "rawType": "float64",
         "type": "float"
        },
        {
         "name": "area error",
         "rawType": "float64",
         "type": "float"
        },
        {
         "name": "smoothness error",
         "rawType": "float64",
         "type": "float"
        },
        {
         "name": "compactness error",
         "rawType": "float64",
         "type": "float"
        },
        {
         "name": "concavity error",
         "rawType": "float64",
         "type": "float"
        },
        {
         "name": "concave points error",
         "rawType": "float64",
         "type": "float"
        },
        {
         "name": "symmetry error",
         "rawType": "float64",
         "type": "float"
        },
        {
         "name": "fractal dimension error",
         "rawType": "float64",
         "type": "float"
        },
        {
         "name": "worst radius",
         "rawType": "float64",
         "type": "float"
        },
        {
         "name": "worst texture",
         "rawType": "float64",
         "type": "float"
        },
        {
         "name": "worst perimeter",
         "rawType": "float64",
         "type": "float"
        },
        {
         "name": "worst area",
         "rawType": "float64",
         "type": "float"
        },
        {
         "name": "worst smoothness",
         "rawType": "float64",
         "type": "float"
        },
        {
         "name": "worst compactness",
         "rawType": "float64",
         "type": "float"
        },
        {
         "name": "worst concavity",
         "rawType": "float64",
         "type": "float"
        },
        {
         "name": "worst concave points",
         "rawType": "float64",
         "type": "float"
        },
        {
         "name": "worst symmetry",
         "rawType": "float64",
         "type": "float"
        },
        {
         "name": "worst fractal dimension",
         "rawType": "float64",
         "type": "float"
        },
        {
         "name": "target",
         "rawType": "int32",
         "type": "integer"
        },
        {
         "name": "target_name",
         "rawType": "object",
         "type": "string"
        }
       ],
       "conversionMethod": "pd.DataFrame",
       "ref": "8ca6f576-e269-42a0-a58b-ce27be068e8a",
       "rows": [
        [
         "0",
         "12.47",
         "18.6",
         "81.09",
         "481.9",
         "0.09965",
         "0.1058",
         "0.08005",
         "0.03821",
         "0.1925",
         "0.06373",
         "0.3961",
         "1.044",
         "2.497",
         "30.29",
         "0.006953",
         "0.01911",
         "0.02701",
         "0.01037",
         "0.01782",
         "0.003586",
         "14.97",
         "24.64",
         "96.05",
         "677.9",
         "0.1426",
         "0.2378",
         "0.2671",
         "0.1015",
         "0.3014",
         "0.0875",
         "1",
         "benign"
        ],
        [
         "1",
         "18.94",
         "21.31",
         "123.6",
         "1130.0",
         "0.09009",
         "0.1029",
         "0.108",
         "0.07951",
         "0.1582",
         "0.05461",
         "0.7888",
         "0.7975",
         "5.486",
         "96.05",
         "0.004444",
         "0.01652",
         "0.02269",
         "0.0137",
         "0.01386",
         "0.001698",
         "24.86",
         "26.58",
         "165.9",
         "1866.0",
         "0.1193",
         "0.2336",
         "0.2687",
         "0.1789",
         "0.2551",
         "0.06589",
         "0",
         "malignant"
        ],
        [
         "2",
         "15.46",
         "19.48",
         "101.7",
         "748.9",
         "0.1092",
         "0.1223",
         "0.1466",
         "0.08087",
         "0.1931",
         "0.05796",
         "0.4743",
         "0.7859",
         "3.094",
         "48.31",
         "0.00624",
         "0.01484",
         "0.02813",
         "0.01093",
         "0.01397",
         "0.002461",
         "19.26",
         "26.0",
         "124.9",
         "1156.0",
         "0.1546",
         "0.2394",
         "0.3791",
         "0.1514",
         "0.2837",
         "0.08019",
         "0",
         "malignant"
        ],
        [
         "3",
         "12.4",
         "17.68",
         "81.47",
         "467.8",
         "0.1054",
         "0.1316",
         "0.07741",
         "0.02799",
         "0.1811",
         "0.07102",
         "0.1767",
         "1.46",
         "2.204",
         "15.43",
         "0.01",
         "0.03295",
         "0.04861",
         "0.01167",
         "0.02187",
         "0.006005",
         "12.88",
         "22.91",
         "89.61",
         "515.8",
         "0.145",
         "0.2629",
         "0.2403",
         "0.0737",
         "0.2556",
         "0.09359",
         "1",
         "benign"
        ],
        [
         "4",
         "11.54",
         "14.44",
         "74.65",
         "402.9",
         "0.09984",
         "0.112",
         "0.06737",
         "0.02594",
         "0.1818",
         "0.06782",
         "0.2784",
         "1.768",
         "1.628",
         "20.86",
         "0.01215",
         "0.04112",
         "0.05553",
         "0.01494",
         "0.0184",
         "0.005512",
         "12.26",
         "19.68",
         "78.78",
         "457.8",
         "0.1345",
         "0.2118",
         "0.1797",
         "0.06918",
         "0.2329",
         "0.08134",
         "1",
         "benign"
        ]
       ],
       "shape": {
        "columns": 32,
        "rows": 5
       }
      },
      "text/html": [
       "<div>\n",
       "<style scoped>\n",
       "    .dataframe tbody tr th:only-of-type {\n",
       "        vertical-align: middle;\n",
       "    }\n",
       "\n",
       "    .dataframe tbody tr th {\n",
       "        vertical-align: top;\n",
       "    }\n",
       "\n",
       "    .dataframe thead th {\n",
       "        text-align: right;\n",
       "    }\n",
       "</style>\n",
       "<table border=\"1\" class=\"dataframe\">\n",
       "  <thead>\n",
       "    <tr style=\"text-align: right;\">\n",
       "      <th></th>\n",
       "      <th>mean radius</th>\n",
       "      <th>mean texture</th>\n",
       "      <th>mean perimeter</th>\n",
       "      <th>mean area</th>\n",
       "      <th>mean smoothness</th>\n",
       "      <th>mean compactness</th>\n",
       "      <th>mean concavity</th>\n",
       "      <th>mean concave points</th>\n",
       "      <th>mean symmetry</th>\n",
       "      <th>mean fractal dimension</th>\n",
       "      <th>...</th>\n",
       "      <th>worst perimeter</th>\n",
       "      <th>worst area</th>\n",
       "      <th>worst smoothness</th>\n",
       "      <th>worst compactness</th>\n",
       "      <th>worst concavity</th>\n",
       "      <th>worst concave points</th>\n",
       "      <th>worst symmetry</th>\n",
       "      <th>worst fractal dimension</th>\n",
       "      <th>target</th>\n",
       "      <th>target_name</th>\n",
       "    </tr>\n",
       "  </thead>\n",
       "  <tbody>\n",
       "    <tr>\n",
       "      <th>0</th>\n",
       "      <td>12.47</td>\n",
       "      <td>18.60</td>\n",
       "      <td>81.09</td>\n",
       "      <td>481.9</td>\n",
       "      <td>0.09965</td>\n",
       "      <td>0.1058</td>\n",
       "      <td>0.08005</td>\n",
       "      <td>0.03821</td>\n",
       "      <td>0.1925</td>\n",
       "      <td>0.06373</td>\n",
       "      <td>...</td>\n",
       "      <td>96.05</td>\n",
       "      <td>677.9</td>\n",
       "      <td>0.1426</td>\n",
       "      <td>0.2378</td>\n",
       "      <td>0.2671</td>\n",
       "      <td>0.10150</td>\n",
       "      <td>0.3014</td>\n",
       "      <td>0.08750</td>\n",
       "      <td>1</td>\n",
       "      <td>benign</td>\n",
       "    </tr>\n",
       "    <tr>\n",
       "      <th>1</th>\n",
       "      <td>18.94</td>\n",
       "      <td>21.31</td>\n",
       "      <td>123.60</td>\n",
       "      <td>1130.0</td>\n",
       "      <td>0.09009</td>\n",
       "      <td>0.1029</td>\n",
       "      <td>0.10800</td>\n",
       "      <td>0.07951</td>\n",
       "      <td>0.1582</td>\n",
       "      <td>0.05461</td>\n",
       "      <td>...</td>\n",
       "      <td>165.90</td>\n",
       "      <td>1866.0</td>\n",
       "      <td>0.1193</td>\n",
       "      <td>0.2336</td>\n",
       "      <td>0.2687</td>\n",
       "      <td>0.17890</td>\n",
       "      <td>0.2551</td>\n",
       "      <td>0.06589</td>\n",
       "      <td>0</td>\n",
       "      <td>malignant</td>\n",
       "    </tr>\n",
       "    <tr>\n",
       "      <th>2</th>\n",
       "      <td>15.46</td>\n",
       "      <td>19.48</td>\n",
       "      <td>101.70</td>\n",
       "      <td>748.9</td>\n",
       "      <td>0.10920</td>\n",
       "      <td>0.1223</td>\n",
       "      <td>0.14660</td>\n",
       "      <td>0.08087</td>\n",
       "      <td>0.1931</td>\n",
       "      <td>0.05796</td>\n",
       "      <td>...</td>\n",
       "      <td>124.90</td>\n",
       "      <td>1156.0</td>\n",
       "      <td>0.1546</td>\n",
       "      <td>0.2394</td>\n",
       "      <td>0.3791</td>\n",
       "      <td>0.15140</td>\n",
       "      <td>0.2837</td>\n",
       "      <td>0.08019</td>\n",
       "      <td>0</td>\n",
       "      <td>malignant</td>\n",
       "    </tr>\n",
       "    <tr>\n",
       "      <th>3</th>\n",
       "      <td>12.40</td>\n",
       "      <td>17.68</td>\n",
       "      <td>81.47</td>\n",
       "      <td>467.8</td>\n",
       "      <td>0.10540</td>\n",
       "      <td>0.1316</td>\n",
       "      <td>0.07741</td>\n",
       "      <td>0.02799</td>\n",
       "      <td>0.1811</td>\n",
       "      <td>0.07102</td>\n",
       "      <td>...</td>\n",
       "      <td>89.61</td>\n",
       "      <td>515.8</td>\n",
       "      <td>0.1450</td>\n",
       "      <td>0.2629</td>\n",
       "      <td>0.2403</td>\n",
       "      <td>0.07370</td>\n",
       "      <td>0.2556</td>\n",
       "      <td>0.09359</td>\n",
       "      <td>1</td>\n",
       "      <td>benign</td>\n",
       "    </tr>\n",
       "    <tr>\n",
       "      <th>4</th>\n",
       "      <td>11.54</td>\n",
       "      <td>14.44</td>\n",
       "      <td>74.65</td>\n",
       "      <td>402.9</td>\n",
       "      <td>0.09984</td>\n",
       "      <td>0.1120</td>\n",
       "      <td>0.06737</td>\n",
       "      <td>0.02594</td>\n",
       "      <td>0.1818</td>\n",
       "      <td>0.06782</td>\n",
       "      <td>...</td>\n",
       "      <td>78.78</td>\n",
       "      <td>457.8</td>\n",
       "      <td>0.1345</td>\n",
       "      <td>0.2118</td>\n",
       "      <td>0.1797</td>\n",
       "      <td>0.06918</td>\n",
       "      <td>0.2329</td>\n",
       "      <td>0.08134</td>\n",
       "      <td>1</td>\n",
       "      <td>benign</td>\n",
       "    </tr>\n",
       "  </tbody>\n",
       "</table>\n",
       "<p>5 rows × 32 columns</p>\n",
       "</div>"
      ],
      "text/plain": [
       "   mean radius  mean texture  mean perimeter  mean area  mean smoothness  \\\n",
       "0        12.47         18.60           81.09      481.9          0.09965   \n",
       "1        18.94         21.31          123.60     1130.0          0.09009   \n",
       "2        15.46         19.48          101.70      748.9          0.10920   \n",
       "3        12.40         17.68           81.47      467.8          0.10540   \n",
       "4        11.54         14.44           74.65      402.9          0.09984   \n",
       "\n",
       "   mean compactness  mean concavity  mean concave points  mean symmetry  \\\n",
       "0            0.1058         0.08005              0.03821         0.1925   \n",
       "1            0.1029         0.10800              0.07951         0.1582   \n",
       "2            0.1223         0.14660              0.08087         0.1931   \n",
       "3            0.1316         0.07741              0.02799         0.1811   \n",
       "4            0.1120         0.06737              0.02594         0.1818   \n",
       "\n",
       "   mean fractal dimension  ...  worst perimeter  worst area  worst smoothness  \\\n",
       "0                 0.06373  ...            96.05       677.9            0.1426   \n",
       "1                 0.05461  ...           165.90      1866.0            0.1193   \n",
       "2                 0.05796  ...           124.90      1156.0            0.1546   \n",
       "3                 0.07102  ...            89.61       515.8            0.1450   \n",
       "4                 0.06782  ...            78.78       457.8            0.1345   \n",
       "\n",
       "   worst compactness  worst concavity  worst concave points  worst symmetry  \\\n",
       "0             0.2378           0.2671               0.10150          0.3014   \n",
       "1             0.2336           0.2687               0.17890          0.2551   \n",
       "2             0.2394           0.3791               0.15140          0.2837   \n",
       "3             0.2629           0.2403               0.07370          0.2556   \n",
       "4             0.2118           0.1797               0.06918          0.2329   \n",
       "\n",
       "   worst fractal dimension  target  target_name  \n",
       "0                  0.08750       1       benign  \n",
       "1                  0.06589       0    malignant  \n",
       "2                  0.08019       0    malignant  \n",
       "3                  0.09359       1       benign  \n",
       "4                  0.08134       1       benign  \n",
       "\n",
       "[5 rows x 32 columns]"
      ]
     },
     "metadata": {},
     "output_type": "display_data"
    }
   ],
   "source": [
    "# Create a DataFrame for better visualization\n",
    "feature_names = cancer.feature_names\n",
    "df = pd.DataFrame(X, columns=feature_names)\n",
    "df['target'] = y\n",
    "df['target_name'] = [cancer.target_names[i] for i in y]\n",
    "\n",
    "# Display the first 5 rows of the dataset\n",
    "print(\"First 5 rows of the cancer dataset:\")\n",
    "display(df.head())\n"
   ]
  },
  {
   "cell_type": "code",
   "execution_count": 135,
   "id": "b9052451",
   "metadata": {},
   "outputs": [
    {
     "name": "stdout",
     "output_type": "stream",
     "text": [
      "       mean radius  mean texture  mean perimeter    mean area  \\\n",
      "count    56.000000     56.000000       56.000000    56.000000   \n",
      "mean     13.785732     19.291607       89.620179   619.353571   \n",
      "std       3.349860      4.361218       23.293864   312.383113   \n",
      "min       6.981000     10.940000       43.790000   143.500000   \n",
      "25%      11.607500     15.842500       74.547500   414.400000   \n",
      "50%      13.140000     19.030000       84.190000   524.700000   \n",
      "75%      15.600000     22.122500      101.950000   761.125000   \n",
      "max      22.010000     29.330000      147.200000  1482.000000   \n",
      "\n",
      "       mean smoothness  mean compactness  mean concavity  mean concave points  \\\n",
      "count        56.000000         56.000000       56.000000            56.000000   \n",
      "mean          0.098979          0.101619        0.078335             0.047932   \n",
      "std           0.014657          0.047746        0.075301             0.040633   \n",
      "min           0.068280          0.039120        0.000000             0.000000   \n",
      "25%           0.088695          0.068422        0.027510             0.019660   \n",
      "50%           0.099745          0.090885        0.051050             0.029135   \n",
      "75%           0.107200          0.122350        0.102750             0.067080   \n",
      "max           0.137100          0.277000        0.351400             0.156200   \n",
      "\n",
      "       mean symmetry  mean fractal dimension  ...  worst texture  \\\n",
      "count      56.000000               56.000000  ...      56.000000   \n",
      "mean        0.184286                0.062914  ...      25.027857   \n",
      "std         0.024423                0.006055  ...       5.870103   \n",
      "min         0.143200                0.052660  ...      12.490000   \n",
      "25%         0.164375                0.058727  ...      19.687500   \n",
      "50%         0.183700                0.061900  ...      25.100000   \n",
      "75%         0.193825                0.065555  ...      28.982500   \n",
      "max         0.253800                0.078390  ...      39.420000   \n",
      "\n",
      "       worst perimeter   worst area  worst smoothness  worst compactness  \\\n",
      "count        56.000000    56.000000         56.000000          56.000000   \n",
      "mean        103.618571   821.673214          0.133678           0.233842   \n",
      "std          32.886972   503.088291          0.019424           0.151755   \n",
      "min          50.410000   185.200000          0.093840           0.070940   \n",
      "25%          81.900000   498.775000          0.121250           0.137525   \n",
      "50%          93.320000   619.300000          0.134700           0.208550   \n",
      "75%         121.850000  1075.000000          0.144400           0.258925   \n",
      "max         195.000000  2227.000000          0.185000           0.868100   \n",
      "\n",
      "       worst concavity  worst concave points  worst symmetry  \\\n",
      "count        56.000000             56.000000       56.000000   \n",
      "mean          0.230485              0.104856        0.284516   \n",
      "std           0.189549              0.061111        0.046519   \n",
      "min           0.000000              0.000000        0.199900   \n",
      "25%           0.091607              0.063887        0.253175   \n",
      "50%           0.179400              0.088250        0.277150   \n",
      "75%           0.313050              0.146050        0.310325   \n",
      "max           0.938700              0.265000        0.412800   \n",
      "\n",
      "       worst fractal dimension     target  \n",
      "count                56.000000  56.000000  \n",
      "mean                  0.081826   0.696429  \n",
      "std                   0.014627   0.463961  \n",
      "min                   0.060330   0.000000  \n",
      "25%                   0.072188   0.000000  \n",
      "50%                   0.079360   1.000000  \n",
      "75%                   0.088615   1.000000  \n",
      "max                   0.133900   1.000000  \n",
      "\n",
      "[8 rows x 31 columns]\n"
     ]
    }
   ],
   "source": [
    "print(df.describe())"
   ]
  },
  {
   "cell_type": "code",
   "execution_count": 136,
   "id": "aefe3399",
   "metadata": {},
   "outputs": [
    {
     "name": "stdout",
     "output_type": "stream",
     "text": [
      "Top 5 selected features: ['mean perimeter', 'mean area', 'worst radius', 'worst perimeter', 'worst area']\n",
      "Feature scores:\n",
      "mean radius: 116.84\n",
      "mean texture: 10.94\n",
      "mean perimeter: 119.78\n",
      "mean area: 129.47\n",
      "mean smoothness: 2.44\n",
      "mean compactness: 30.32\n",
      "mean concavity: 61.84\n",
      "mean concave points: 79.72\n",
      "mean symmetry: 0.27\n",
      "mean fractal dimension: 0.52\n",
      "radius error: 48.04\n",
      "texture error: 0.42\n",
      "perimeter error: 47.94\n",
      "area error: 103.85\n",
      "smoothness error: 4.66\n",
      "compactness error: 7.42\n",
      "concavity error: 8.51\n",
      "concave points error: 5.28\n",
      "symmetry error: 1.17\n",
      "fractal dimension error: 2.37\n",
      "worst radius: 165.08\n",
      "worst texture: 11.64\n",
      "worst perimeter: 155.13\n",
      "worst area: 166.70\n",
      "worst smoothness: 3.97\n",
      "worst compactness: 21.03\n",
      "worst concavity: 42.72\n",
      "worst concave points: 97.80\n",
      "worst symmetry: 2.71\n",
      "worst fractal dimension: 8.44\n"
     ]
    }
   ],
   "source": [
    "# Feature selection using SelectKBest\n",
    "# We'll select the most important features based on ANOVA F-value\n",
    "selector = SelectKBest(f_classif, k=5)\n",
    "X_selected = selector.fit_transform(X, y)\n",
    "\n",
    "selected_indices = selector.get_support(indices=True)\n",
    "selected_feature_names = [feature_names[i] for i in selected_indices]\n",
    "\n",
    "print(f\"Top 5 selected features: {selected_feature_names}\")\n",
    "print(\"Feature scores:\")\n",
    "for i, name in enumerate(feature_names):\n",
    "    print(f\"{name}: {selector.scores_[i]:.2f}\")"
   ]
  },
  {
   "cell_type": "code",
   "execution_count": 137,
   "id": "aa8615ec",
   "metadata": {},
   "outputs": [
    {
     "name": "stdout",
     "output_type": "stream",
     "text": [
      "Before scaling (first 3 samples):\n"
     ]
    },
    {
     "data": {
      "application/vnd.microsoft.datawrangler.viewer.v0+json": {
       "columns": [
        {
         "name": "index",
         "rawType": "int64",
         "type": "integer"
        },
        {
         "name": "mean radius",
         "rawType": "float64",
         "type": "float"
        },
        {
         "name": "mean texture",
         "rawType": "float64",
         "type": "float"
        },
        {
         "name": "mean perimeter",
         "rawType": "float64",
         "type": "float"
        },
        {
         "name": "mean area",
         "rawType": "float64",
         "type": "float"
        },
        {
         "name": "mean smoothness",
         "rawType": "float64",
         "type": "float"
        },
        {
         "name": "mean compactness",
         "rawType": "float64",
         "type": "float"
        },
        {
         "name": "mean concavity",
         "rawType": "float64",
         "type": "float"
        },
        {
         "name": "mean concave points",
         "rawType": "float64",
         "type": "float"
        },
        {
         "name": "mean symmetry",
         "rawType": "float64",
         "type": "float"
        },
        {
         "name": "mean fractal dimension",
         "rawType": "float64",
         "type": "float"
        },
        {
         "name": "radius error",
         "rawType": "float64",
         "type": "float"
        },
        {
         "name": "texture error",
         "rawType": "float64",
         "type": "float"
        },
        {
         "name": "perimeter error",
         "rawType": "float64",
         "type": "float"
        },
        {
         "name": "area error",
         "rawType": "float64",
         "type": "float"
        },
        {
         "name": "smoothness error",
         "rawType": "float64",
         "type": "float"
        },
        {
         "name": "compactness error",
         "rawType": "float64",
         "type": "float"
        },
        {
         "name": "concavity error",
         "rawType": "float64",
         "type": "float"
        },
        {
         "name": "concave points error",
         "rawType": "float64",
         "type": "float"
        },
        {
         "name": "symmetry error",
         "rawType": "float64",
         "type": "float"
        },
        {
         "name": "fractal dimension error",
         "rawType": "float64",
         "type": "float"
        },
        {
         "name": "worst radius",
         "rawType": "float64",
         "type": "float"
        },
        {
         "name": "worst texture",
         "rawType": "float64",
         "type": "float"
        },
        {
         "name": "worst perimeter",
         "rawType": "float64",
         "type": "float"
        },
        {
         "name": "worst area",
         "rawType": "float64",
         "type": "float"
        },
        {
         "name": "worst smoothness",
         "rawType": "float64",
         "type": "float"
        },
        {
         "name": "worst compactness",
         "rawType": "float64",
         "type": "float"
        },
        {
         "name": "worst concavity",
         "rawType": "float64",
         "type": "float"
        },
        {
         "name": "worst concave points",
         "rawType": "float64",
         "type": "float"
        },
        {
         "name": "worst symmetry",
         "rawType": "float64",
         "type": "float"
        },
        {
         "name": "worst fractal dimension",
         "rawType": "float64",
         "type": "float"
        }
       ],
       "conversionMethod": "pd.DataFrame",
       "ref": "cb695aaa-0058-4667-b66c-fb8cc2cb6b75",
       "rows": [
        [
         "0",
         "12.47",
         "18.6",
         "81.09",
         "481.9",
         "0.09965",
         "0.1058",
         "0.08005",
         "0.03821",
         "0.1925",
         "0.06373",
         "0.3961",
         "1.044",
         "2.497",
         "30.29",
         "0.006953",
         "0.01911",
         "0.02701",
         "0.01037",
         "0.01782",
         "0.003586",
         "14.97",
         "24.64",
         "96.05",
         "677.9",
         "0.1426",
         "0.2378",
         "0.2671",
         "0.1015",
         "0.3014",
         "0.0875"
        ],
        [
         "1",
         "18.94",
         "21.31",
         "123.6",
         "1130.0",
         "0.09009",
         "0.1029",
         "0.108",
         "0.07951",
         "0.1582",
         "0.05461",
         "0.7888",
         "0.7975",
         "5.486",
         "96.05",
         "0.004444",
         "0.01652",
         "0.02269",
         "0.0137",
         "0.01386",
         "0.001698",
         "24.86",
         "26.58",
         "165.9",
         "1866.0",
         "0.1193",
         "0.2336",
         "0.2687",
         "0.1789",
         "0.2551",
         "0.06589"
        ],
        [
         "2",
         "15.46",
         "19.48",
         "101.7",
         "748.9",
         "0.1092",
         "0.1223",
         "0.1466",
         "0.08087",
         "0.1931",
         "0.05796",
         "0.4743",
         "0.7859",
         "3.094",
         "48.31",
         "0.00624",
         "0.01484",
         "0.02813",
         "0.01093",
         "0.01397",
         "0.002461",
         "19.26",
         "26.0",
         "124.9",
         "1156.0",
         "0.1546",
         "0.2394",
         "0.3791",
         "0.1514",
         "0.2837",
         "0.08019"
        ]
       ],
       "shape": {
        "columns": 30,
        "rows": 3
       }
      },
      "text/html": [
       "<div>\n",
       "<style scoped>\n",
       "    .dataframe tbody tr th:only-of-type {\n",
       "        vertical-align: middle;\n",
       "    }\n",
       "\n",
       "    .dataframe tbody tr th {\n",
       "        vertical-align: top;\n",
       "    }\n",
       "\n",
       "    .dataframe thead th {\n",
       "        text-align: right;\n",
       "    }\n",
       "</style>\n",
       "<table border=\"1\" class=\"dataframe\">\n",
       "  <thead>\n",
       "    <tr style=\"text-align: right;\">\n",
       "      <th></th>\n",
       "      <th>mean radius</th>\n",
       "      <th>mean texture</th>\n",
       "      <th>mean perimeter</th>\n",
       "      <th>mean area</th>\n",
       "      <th>mean smoothness</th>\n",
       "      <th>mean compactness</th>\n",
       "      <th>mean concavity</th>\n",
       "      <th>mean concave points</th>\n",
       "      <th>mean symmetry</th>\n",
       "      <th>mean fractal dimension</th>\n",
       "      <th>...</th>\n",
       "      <th>worst radius</th>\n",
       "      <th>worst texture</th>\n",
       "      <th>worst perimeter</th>\n",
       "      <th>worst area</th>\n",
       "      <th>worst smoothness</th>\n",
       "      <th>worst compactness</th>\n",
       "      <th>worst concavity</th>\n",
       "      <th>worst concave points</th>\n",
       "      <th>worst symmetry</th>\n",
       "      <th>worst fractal dimension</th>\n",
       "    </tr>\n",
       "  </thead>\n",
       "  <tbody>\n",
       "    <tr>\n",
       "      <th>0</th>\n",
       "      <td>12.47</td>\n",
       "      <td>18.60</td>\n",
       "      <td>81.09</td>\n",
       "      <td>481.9</td>\n",
       "      <td>0.09965</td>\n",
       "      <td>0.1058</td>\n",
       "      <td>0.08005</td>\n",
       "      <td>0.03821</td>\n",
       "      <td>0.1925</td>\n",
       "      <td>0.06373</td>\n",
       "      <td>...</td>\n",
       "      <td>14.97</td>\n",
       "      <td>24.64</td>\n",
       "      <td>96.05</td>\n",
       "      <td>677.9</td>\n",
       "      <td>0.1426</td>\n",
       "      <td>0.2378</td>\n",
       "      <td>0.2671</td>\n",
       "      <td>0.1015</td>\n",
       "      <td>0.3014</td>\n",
       "      <td>0.08750</td>\n",
       "    </tr>\n",
       "    <tr>\n",
       "      <th>1</th>\n",
       "      <td>18.94</td>\n",
       "      <td>21.31</td>\n",
       "      <td>123.60</td>\n",
       "      <td>1130.0</td>\n",
       "      <td>0.09009</td>\n",
       "      <td>0.1029</td>\n",
       "      <td>0.10800</td>\n",
       "      <td>0.07951</td>\n",
       "      <td>0.1582</td>\n",
       "      <td>0.05461</td>\n",
       "      <td>...</td>\n",
       "      <td>24.86</td>\n",
       "      <td>26.58</td>\n",
       "      <td>165.90</td>\n",
       "      <td>1866.0</td>\n",
       "      <td>0.1193</td>\n",
       "      <td>0.2336</td>\n",
       "      <td>0.2687</td>\n",
       "      <td>0.1789</td>\n",
       "      <td>0.2551</td>\n",
       "      <td>0.06589</td>\n",
       "    </tr>\n",
       "    <tr>\n",
       "      <th>2</th>\n",
       "      <td>15.46</td>\n",
       "      <td>19.48</td>\n",
       "      <td>101.70</td>\n",
       "      <td>748.9</td>\n",
       "      <td>0.10920</td>\n",
       "      <td>0.1223</td>\n",
       "      <td>0.14660</td>\n",
       "      <td>0.08087</td>\n",
       "      <td>0.1931</td>\n",
       "      <td>0.05796</td>\n",
       "      <td>...</td>\n",
       "      <td>19.26</td>\n",
       "      <td>26.00</td>\n",
       "      <td>124.90</td>\n",
       "      <td>1156.0</td>\n",
       "      <td>0.1546</td>\n",
       "      <td>0.2394</td>\n",
       "      <td>0.3791</td>\n",
       "      <td>0.1514</td>\n",
       "      <td>0.2837</td>\n",
       "      <td>0.08019</td>\n",
       "    </tr>\n",
       "  </tbody>\n",
       "</table>\n",
       "<p>3 rows × 30 columns</p>\n",
       "</div>"
      ],
      "text/plain": [
       "   mean radius  mean texture  mean perimeter  mean area  mean smoothness  \\\n",
       "0        12.47         18.60           81.09      481.9          0.09965   \n",
       "1        18.94         21.31          123.60     1130.0          0.09009   \n",
       "2        15.46         19.48          101.70      748.9          0.10920   \n",
       "\n",
       "   mean compactness  mean concavity  mean concave points  mean symmetry  \\\n",
       "0            0.1058         0.08005              0.03821         0.1925   \n",
       "1            0.1029         0.10800              0.07951         0.1582   \n",
       "2            0.1223         0.14660              0.08087         0.1931   \n",
       "\n",
       "   mean fractal dimension  ...  worst radius  worst texture  worst perimeter  \\\n",
       "0                 0.06373  ...         14.97          24.64            96.05   \n",
       "1                 0.05461  ...         24.86          26.58           165.90   \n",
       "2                 0.05796  ...         19.26          26.00           124.90   \n",
       "\n",
       "   worst area  worst smoothness  worst compactness  worst concavity  \\\n",
       "0       677.9            0.1426             0.2378           0.2671   \n",
       "1      1866.0            0.1193             0.2336           0.2687   \n",
       "2      1156.0            0.1546             0.2394           0.3791   \n",
       "\n",
       "   worst concave points  worst symmetry  worst fractal dimension  \n",
       "0                0.1015          0.3014                  0.08750  \n",
       "1                0.1789          0.2551                  0.06589  \n",
       "2                0.1514          0.2837                  0.08019  \n",
       "\n",
       "[3 rows x 30 columns]"
      ]
     },
     "metadata": {},
     "output_type": "display_data"
    },
    {
     "name": "stdout",
     "output_type": "stream",
     "text": [
      "After scaling (first 3 samples):\n"
     ]
    },
    {
     "data": {
      "application/vnd.microsoft.datawrangler.viewer.v0+json": {
       "columns": [
        {
         "name": "index",
         "rawType": "int64",
         "type": "integer"
        },
        {
         "name": "mean radius",
         "rawType": "float64",
         "type": "float"
        },
        {
         "name": "mean texture",
         "rawType": "float64",
         "type": "float"
        },
        {
         "name": "mean perimeter",
         "rawType": "float64",
         "type": "float"
        },
        {
         "name": "mean area",
         "rawType": "float64",
         "type": "float"
        },
        {
         "name": "mean smoothness",
         "rawType": "float64",
         "type": "float"
        },
        {
         "name": "mean compactness",
         "rawType": "float64",
         "type": "float"
        },
        {
         "name": "mean concavity",
         "rawType": "float64",
         "type": "float"
        },
        {
         "name": "mean concave points",
         "rawType": "float64",
         "type": "float"
        },
        {
         "name": "mean symmetry",
         "rawType": "float64",
         "type": "float"
        },
        {
         "name": "mean fractal dimension",
         "rawType": "float64",
         "type": "float"
        },
        {
         "name": "radius error",
         "rawType": "float64",
         "type": "float"
        },
        {
         "name": "texture error",
         "rawType": "float64",
         "type": "float"
        },
        {
         "name": "perimeter error",
         "rawType": "float64",
         "type": "float"
        },
        {
         "name": "area error",
         "rawType": "float64",
         "type": "float"
        },
        {
         "name": "smoothness error",
         "rawType": "float64",
         "type": "float"
        },
        {
         "name": "compactness error",
         "rawType": "float64",
         "type": "float"
        },
        {
         "name": "concavity error",
         "rawType": "float64",
         "type": "float"
        },
        {
         "name": "concave points error",
         "rawType": "float64",
         "type": "float"
        },
        {
         "name": "symmetry error",
         "rawType": "float64",
         "type": "float"
        },
        {
         "name": "fractal dimension error",
         "rawType": "float64",
         "type": "float"
        },
        {
         "name": "worst radius",
         "rawType": "float64",
         "type": "float"
        },
        {
         "name": "worst texture",
         "rawType": "float64",
         "type": "float"
        },
        {
         "name": "worst perimeter",
         "rawType": "float64",
         "type": "float"
        },
        {
         "name": "worst area",
         "rawType": "float64",
         "type": "float"
        },
        {
         "name": "worst smoothness",
         "rawType": "float64",
         "type": "float"
        },
        {
         "name": "worst compactness",
         "rawType": "float64",
         "type": "float"
        },
        {
         "name": "worst concavity",
         "rawType": "float64",
         "type": "float"
        },
        {
         "name": "worst concave points",
         "rawType": "float64",
         "type": "float"
        },
        {
         "name": "worst symmetry",
         "rawType": "float64",
         "type": "float"
        },
        {
         "name": "worst fractal dimension",
         "rawType": "float64",
         "type": "float"
        }
       ],
       "conversionMethod": "pd.DataFrame",
       "ref": "5542d184-3945-4fd3-bfe4-8228b793e3a6",
       "rows": [
        [
         "0",
         "-0.3963267966979785",
         "-0.16001633448646713",
         "-0.36951261090949694",
         "-0.4439981384526552",
         "0.046211242228478104",
         "0.08834950396105579",
         "0.022983990555050498",
         "-0.24143473254079914",
         "0.33937344309898",
         "0.13593280926976453",
         "0.038072137893175186",
         "-0.33381578513853144",
         "-0.14057979310711108",
         "-0.2055669847563843",
         "-0.09617677601600787",
         "-0.3000091988295501",
         "0.08870219775138409",
         "-0.06444193214963465",
         "-0.4076799066608381",
         "0.010579515282250538",
         "-0.17861891983358644",
         "-0.06667127666055075",
         "-0.23222164400390924",
         "-0.28836758548915997",
         "0.4635001453135817",
         "0.02631771260377577",
         "0.19491656319581876",
         "-0.0554084317002617",
         "0.366234021647713",
         "0.3914134340823116"
        ],
        [
         "1",
         "1.5525762445149733",
         "0.46699319098903136",
         "1.4719472082759815",
         "1.6494737920362486",
         "-0.6119332280943888",
         "0.027062248212581276",
         "0.39751983106440625",
         "0.7841714296899313",
         "-1.077732012345637",
         "-1.3838483717778651",
         "1.9614629002097725",
         "-0.7649447963894705",
         "1.8736303083652417",
         "2.1911958739112998",
         "-0.9146638588357116",
         "-0.499082916790735",
         "-0.1560577132818297",
         "0.5997815648249376",
         "-0.9635181857946067",
         "-1.0175004403812085",
         "1.9696178350118816",
         "0.266807889840466",
         "1.9109413011774983",
         "2.0946182162945983",
         "-0.7468971119768505",
         "-0.0016088653543030224",
         "0.20343405663004732",
         "1.2225944757157376",
         "-0.6380722409944773",
         "-1.0993427860632528"
        ],
        [
         "2",
         "0.5043254588239265",
         "0.043588234671628284",
         "0.5232770120830393",
         "0.41845673801785443",
         "0.7036672769129322",
         "0.4370528556334108",
         "0.9147678970272376",
         "0.8179444171144784",
         "0.36416245981229645",
         "-0.825595416020238",
         "0.4210850169692076",
         "-0.7852332204483381",
         "0.2617231277958647",
         "0.4512101854563845",
         "-0.328771949411962",
         "-0.6282118149277198",
         "0.15215847098221727",
         "0.04725931659083392",
         "-0.9480782335964466",
         "-0.6020210938922153",
         "0.7532249303471074",
         "0.16710793284531683",
         "0.652964482960781",
         "0.6705630700388384",
         "1.0868807070082238",
         "0.03695640896875808",
         "0.7911411035918204",
         "0.7685236752772366",
         "-0.01770163383321049",
         "-0.11286365843337909"
        ]
       ],
       "shape": {
        "columns": 30,
        "rows": 3
       }
      },
      "text/html": [
       "<div>\n",
       "<style scoped>\n",
       "    .dataframe tbody tr th:only-of-type {\n",
       "        vertical-align: middle;\n",
       "    }\n",
       "\n",
       "    .dataframe tbody tr th {\n",
       "        vertical-align: top;\n",
       "    }\n",
       "\n",
       "    .dataframe thead th {\n",
       "        text-align: right;\n",
       "    }\n",
       "</style>\n",
       "<table border=\"1\" class=\"dataframe\">\n",
       "  <thead>\n",
       "    <tr style=\"text-align: right;\">\n",
       "      <th></th>\n",
       "      <th>mean radius</th>\n",
       "      <th>mean texture</th>\n",
       "      <th>mean perimeter</th>\n",
       "      <th>mean area</th>\n",
       "      <th>mean smoothness</th>\n",
       "      <th>mean compactness</th>\n",
       "      <th>mean concavity</th>\n",
       "      <th>mean concave points</th>\n",
       "      <th>mean symmetry</th>\n",
       "      <th>mean fractal dimension</th>\n",
       "      <th>...</th>\n",
       "      <th>worst radius</th>\n",
       "      <th>worst texture</th>\n",
       "      <th>worst perimeter</th>\n",
       "      <th>worst area</th>\n",
       "      <th>worst smoothness</th>\n",
       "      <th>worst compactness</th>\n",
       "      <th>worst concavity</th>\n",
       "      <th>worst concave points</th>\n",
       "      <th>worst symmetry</th>\n",
       "      <th>worst fractal dimension</th>\n",
       "    </tr>\n",
       "  </thead>\n",
       "  <tbody>\n",
       "    <tr>\n",
       "      <th>0</th>\n",
       "      <td>-0.396327</td>\n",
       "      <td>-0.160016</td>\n",
       "      <td>-0.369513</td>\n",
       "      <td>-0.443998</td>\n",
       "      <td>0.046211</td>\n",
       "      <td>0.088350</td>\n",
       "      <td>0.022984</td>\n",
       "      <td>-0.241435</td>\n",
       "      <td>0.339373</td>\n",
       "      <td>0.135933</td>\n",
       "      <td>...</td>\n",
       "      <td>-0.178619</td>\n",
       "      <td>-0.066671</td>\n",
       "      <td>-0.232222</td>\n",
       "      <td>-0.288368</td>\n",
       "      <td>0.463500</td>\n",
       "      <td>0.026318</td>\n",
       "      <td>0.194917</td>\n",
       "      <td>-0.055408</td>\n",
       "      <td>0.366234</td>\n",
       "      <td>0.391413</td>\n",
       "    </tr>\n",
       "    <tr>\n",
       "      <th>1</th>\n",
       "      <td>1.552576</td>\n",
       "      <td>0.466993</td>\n",
       "      <td>1.471947</td>\n",
       "      <td>1.649474</td>\n",
       "      <td>-0.611933</td>\n",
       "      <td>0.027062</td>\n",
       "      <td>0.397520</td>\n",
       "      <td>0.784171</td>\n",
       "      <td>-1.077732</td>\n",
       "      <td>-1.383848</td>\n",
       "      <td>...</td>\n",
       "      <td>1.969618</td>\n",
       "      <td>0.266808</td>\n",
       "      <td>1.910941</td>\n",
       "      <td>2.094618</td>\n",
       "      <td>-0.746897</td>\n",
       "      <td>-0.001609</td>\n",
       "      <td>0.203434</td>\n",
       "      <td>1.222594</td>\n",
       "      <td>-0.638072</td>\n",
       "      <td>-1.099343</td>\n",
       "    </tr>\n",
       "    <tr>\n",
       "      <th>2</th>\n",
       "      <td>0.504325</td>\n",
       "      <td>0.043588</td>\n",
       "      <td>0.523277</td>\n",
       "      <td>0.418457</td>\n",
       "      <td>0.703667</td>\n",
       "      <td>0.437053</td>\n",
       "      <td>0.914768</td>\n",
       "      <td>0.817944</td>\n",
       "      <td>0.364162</td>\n",
       "      <td>-0.825595</td>\n",
       "      <td>...</td>\n",
       "      <td>0.753225</td>\n",
       "      <td>0.167108</td>\n",
       "      <td>0.652964</td>\n",
       "      <td>0.670563</td>\n",
       "      <td>1.086881</td>\n",
       "      <td>0.036956</td>\n",
       "      <td>0.791141</td>\n",
       "      <td>0.768524</td>\n",
       "      <td>-0.017702</td>\n",
       "      <td>-0.112864</td>\n",
       "    </tr>\n",
       "  </tbody>\n",
       "</table>\n",
       "<p>3 rows × 30 columns</p>\n",
       "</div>"
      ],
      "text/plain": [
       "   mean radius  mean texture  mean perimeter  mean area  mean smoothness  \\\n",
       "0    -0.396327     -0.160016       -0.369513  -0.443998         0.046211   \n",
       "1     1.552576      0.466993        1.471947   1.649474        -0.611933   \n",
       "2     0.504325      0.043588        0.523277   0.418457         0.703667   \n",
       "\n",
       "   mean compactness  mean concavity  mean concave points  mean symmetry  \\\n",
       "0          0.088350        0.022984            -0.241435       0.339373   \n",
       "1          0.027062        0.397520             0.784171      -1.077732   \n",
       "2          0.437053        0.914768             0.817944       0.364162   \n",
       "\n",
       "   mean fractal dimension  ...  worst radius  worst texture  worst perimeter  \\\n",
       "0                0.135933  ...     -0.178619      -0.066671        -0.232222   \n",
       "1               -1.383848  ...      1.969618       0.266808         1.910941   \n",
       "2               -0.825595  ...      0.753225       0.167108         0.652964   \n",
       "\n",
       "   worst area  worst smoothness  worst compactness  worst concavity  \\\n",
       "0   -0.288368          0.463500           0.026318         0.194917   \n",
       "1    2.094618         -0.746897          -0.001609         0.203434   \n",
       "2    0.670563          1.086881           0.036956         0.791141   \n",
       "\n",
       "   worst concave points  worst symmetry  worst fractal dimension  \n",
       "0             -0.055408        0.366234                 0.391413  \n",
       "1              1.222594       -0.638072                -1.099343  \n",
       "2              0.768524       -0.017702                -0.112864  \n",
       "\n",
       "[3 rows x 30 columns]"
      ]
     },
     "metadata": {},
     "output_type": "display_data"
    }
   ],
   "source": [
    "# Feature scaling\n",
    "scaler = StandardScaler()\n",
    "X_scaled = scaler.fit_transform(X)\n",
    "\n",
    "print(\"Before scaling (first 3 samples):\")\n",
    "display(pd.DataFrame(X[:3], columns=feature_names))\n",
    "\n",
    "print(\"After scaling (first 3 samples):\")\n",
    "display(pd.DataFrame(X_scaled[:3], columns=feature_names))"
   ]
  },
  {
   "cell_type": "code",
   "execution_count": 138,
   "id": "abc75bbd",
   "metadata": {},
   "outputs": [
    {
     "name": "stdout",
     "output_type": "stream",
     "text": [
      "Explained variance ratio: [0.4776986  0.17822619]\n",
      "Total explained variance: 0.66\n"
     ]
    }
   ],
   "source": [
    "# Apply PCA to reduce to 2D\n",
    "pca = PCA(n_components=2)\n",
    "X_pca = pca.fit_transform(X_scaled)\n",
    "\n",
    "# Create a DataFrame for the PCA results\n",
    "pca_df = pd.DataFrame(\n",
    "    data=X_pca, \n",
    "    columns=['Principal Component 1', 'Principal Component 2']\n",
    ")\n",
    "pca_df['target'] = y\n",
    "pca_df['target_name'] = [cancer.target_names[i] for i in y]\n",
    "\n",
    "# Explained variance\n",
    "print(f\"Explained variance ratio: {pca.explained_variance_ratio_}\")\n",
    "print(f\"Total explained variance: {sum(pca.explained_variance_ratio_):.2f}\")\n",
    "\n",
    "# Get the first two samples for quantum circuit demonstration\n",
    "x1 = np.array(X_pca[0])\n",
    "x2 = np.array(X_pca[1])"
   ]
  },
  {
   "cell_type": "code",
   "execution_count": 139,
   "id": "b515ca4b",
   "metadata": {},
   "outputs": [
    {
     "data": {
      "image/png": "[encoded data removed]",
      "text/plain": [
       "<Figure size 1000x800 with 1 Axes>"
      ]
     },
     "metadata": {},
     "output_type": "display_data"
    }
   ],
   "source": [
    "# Visualize PCA results\n",
    "plt.figure(figsize=(10, 8))\n",
    "for target in np.unique(y):\n",
    "    indices = pca_df['target'] == target\n",
    "    plt.scatter(\n",
    "        pca_df.loc[indices, 'Principal Component 1'],\n",
    "        pca_df.loc[indices, 'Principal Component 2'],\n",
    "        label=cancer.target_names[target]\n",
    "    )\n",
    "plt.title('PCA of Cancer Dataset')\n",
    "plt.xlabel('Principal Component 1')\n",
    "plt.ylabel('Principal Component 2')\n",
    "plt.legend()\n",
    "plt.grid(True)\n",
    "plt.show()"
   ]
  },
  {
   "cell_type": "code",
   "execution_count": 140,
   "id": "3dd2a303",
   "metadata": {},
   "outputs": [],
   "source": [
    "# Train-test split\n",
    "X_train, X_test, y_train, y_test = train_test_split(X_pca, y, test_size=0.4, random_state=42)"
   ]
  },
  {
   "cell_type": "code",
   "execution_count": 141,
   "id": "7eccf238",
   "metadata": {},
   "outputs": [],
   "source": [
    "n_qubits = 2  # Matching our PCA dimensions\n",
    "dev = qml.device(\"default.qubit\", wires=n_qubits)\n",
    "\n",
    "def feature_map(x):\n",
    "    # Apply Hadamard gates to create superposition\n",
    "    for i in range(n_qubits):\n",
    "        qml.Hadamard(wires=i)\n",
    "        qml.RZ(x[i], wires=i)\n",
    "    \n",
    "    # Add entanglement\n",
    "    qml.CNOT(wires=[0, 1])\n",
    "    qml.RZ(x[0] * x[1], wires=1)  # Non-linear transformation\n",
    "    qml.CNOT(wires=[0, 1])\n",
    "\n",
    "@qml.qnode(dev)\n",
    "def kernel_circuit(x1, x2):\n",
    "    feature_map(x1)\n",
    "    qml.adjoint(feature_map)(x2)\n",
    "    return qml.probs(wires=range(n_qubits))"
   ]
  },
  {
   "cell_type": "code",
   "execution_count": 142,
   "id": "b1aba9f2",
   "metadata": {},
   "outputs": [
    {
     "name": "stdout",
     "output_type": "stream",
     "text": [
      "Quantum circuit for first 2 PCA-reduced samples:\n",
      "0: ──H──RZ(-0.40)─╭●────────────╭●─╭●───────────────╭●───RZ(4.05)†───H†─┤ ╭Probs\n",
      "1: ──H──RZ(0.38)──╰X──RZ(-0.16)─╰X─╰X†──RZ(-17.10)†─╰X†──RZ(-4.22)†──H†─┤ ╰Probs\n"
     ]
    },
    {
     "name": "stderr",
     "output_type": "stream",
     "text": [
      "C:\\Users\\Aravind\\AppData\\Local\\Temp\\ipykernel_7220\\783357914.py:9: UserWarning: This figure includes Axes that are not compatible with tight_layout, so results might be incorrect.\n",
      "  plt.tight_layout()\n"
     ]
    },
    {
     "data": {
      "image/png": "[encoded data removed]",
      "text/plain": [
       "<Figure size 1300x300 with 1 Axes>"
      ]
     },
     "metadata": {},
     "output_type": "display_data"
    }
   ],
   "source": [
    "# Draw and visualize the circuit\n",
    "drawer = qml.draw(kernel_circuit)\n",
    "print(\"Quantum circuit for first 2 PCA-reduced samples:\")\n",
    "print(drawer(x1, x2))\n",
    "\n",
    "qml.drawer.use_style(\"black_white\")\n",
    "fig = qml.draw_mpl(kernel_circuit)(x1, x2)\n",
    "plt.title(\"Quantum Kernel Circuit (QSVM - PCA Reduced)\")\n",
    "plt.tight_layout()\n",
    "plt.show()"
   ]
  },
  {
   "cell_type": "code",
   "execution_count": 143,
   "id": "b9bdff38",
   "metadata": {},
   "outputs": [
    {
     "name": "stdout",
     "output_type": "stream",
     "text": [
      "Computing training kernel matrix...\n",
      "Computing test kernel matrix...\n"
     ]
    }
   ],
   "source": [
    "# Define quantum kernel function\n",
    "def quantum_kernel(X1, X2):\n",
    "    kernel = np.zeros((len(X1), len(X2)))\n",
    "    for i in range(len(X1)):\n",
    "        for j in range(len(X2)):\n",
    "            probs = kernel_circuit(X1[i], X2[j])\n",
    "            kernel[i, j] = probs[0]  # We use the probability of measuring |00⟩\n",
    "    return kernel\n",
    "\n",
    "# Compute kernel matrices\n",
    "X_train_np = np.array(X_train)\n",
    "X_test_np = np.array(X_test)\n",
    "\n",
    "print(\"Computing training kernel matrix...\")\n",
    "kernel_train = quantum_kernel(X_train_np, X_train_np)\n",
    "print(\"Computing test kernel matrix...\")\n",
    "kernel_test = quantum_kernel(X_test_np, X_train_np)\n"
   ]
  },
  {
   "cell_type": "code",
   "execution_count": 144,
   "id": "6e5e173c",
   "metadata": {},
   "outputs": [
    {
     "name": "stdout",
     "output_type": "stream",
     "text": [
      "0.6956521739130435\n"
     ]
    }
   ],
   "source": [
    "# Train SVM and evaluate\n",
    "\n",
    "from sklearn.metrics import accuracy_score\n",
    "svm = SVC(kernel='precomputed')\n",
    "svm.fit(kernel_train, y_train)\n",
    "y_pred = svm.predict(kernel_test)\n",
    "\n",
    "print(accuracy_score(y_test, y_pred))"
   ]
  }
 ],
 "metadata": {
  "kernelspec": {
   "display_name": "venv",
   "language": "python",
   "name": "python3"
  },
  "language_info": {
   "codemirror_mode": {
    "name": "ipython",
    "version": 3
   },
   "file_extension": ".py",
   "mimetype": "text/x-python",
   "name": "python",
   "nbconvert_exporter": "python",
   "pygments_lexer": "ipython3",
   "version": "3.11.5"
  }
 },
 "nbformat": 4,
 "nbformat_minor": 5
}
