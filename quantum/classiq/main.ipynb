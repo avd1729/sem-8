{
 "cells": [
  {
   "cell_type": "code",
   "execution_count": 1,
   "metadata": {},
   "outputs": [
    {
     "name": "stderr",
     "output_type": "stream",
     "text": [
      "c:\\Users\\Aravind\\college\\quantum\\venv\\Lib\\site-packages\\classiq\\_internals\\authentication\\token_manager.py:101: UserWarning: Device is already registered.\n",
      "Generating a new refresh token should only be done if the current refresh token is compromised.\n",
      "To do so, set the overwrite parameter to true\n",
      "  warnings.warn(\n"
     ]
    }
   ],
   "source": [
    "import classiq\n",
    "classiq.authenticate()"
   ]
  },
  {
   "cell_type": "code",
   "execution_count": 5,
   "metadata": {},
   "outputs": [
    {
     "name": "stdout",
     "output_type": "stream",
     "text": [
      "Opening: https://platform.classiq.io/circuit/2unpI4a85jhPFFBN30yrIsOk3WI?login=True&version=0.70.0\n",
      "Quantum Key Distribution Simulation:\n",
      "[{'x': 3, 'y': 3}: 49, {'x': 2, 'y': 4}: 48, {'x': 4, 'y': 5}: 45, {'x': 6, 'y': 7}: 44, {'x': 4, 'y': 4}: 44, {'x': 1, 'y': 2}: 43, {'x': 0, 'y': 6}: 42, {'x': 0, 'y': 7}: 40, {'x': 2, 'y': 6}: 39, {'x': 3, 'y': 1}: 39, {'x': 3, 'y': 6}: 38, {'x': 2, 'y': 7}: 37, {'x': 1, 'y': 5}: 37, {'x': 5, 'y': 6}: 36, {'x': 4, 'y': 6}: 36, {'x': 7, 'y': 0}: 35, {'x': 4, 'y': 2}: 35, {'x': 6, 'y': 6}: 35, {'x': 1, 'y': 6}: 34, {'x': 2, 'y': 2}: 34, {'x': 1, 'y': 7}: 34, {'x': 7, 'y': 2}: 33, {'x': 6, 'y': 4}: 33, {'x': 3, 'y': 4}: 33, {'x': 6, 'y': 2}: 33, {'x': 4, 'y': 1}: 33, {'x': 7, 'y': 6}: 33, {'x': 2, 'y': 0}: 32, {'x': 2, 'y': 5}: 32, {'x': 5, 'y': 3}: 32, {'x': 2, 'y': 3}: 32, {'x': 0, 'y': 4}: 31, {'x': 7, 'y': 5}: 31, {'x': 1, 'y': 1}: 31, {'x': 7, 'y': 7}: 30, {'x': 5, 'y': 1}: 30, {'x': 1, 'y': 3}: 30, {'x': 0, 'y': 5}: 30, {'x': 7, 'y': 3}: 29, {'x': 7, 'y': 1}: 29, {'x': 0, 'y': 2}: 29, {'x': 1, 'y': 4}: 29, {'x': 0, 'y': 3}: 29, {'x': 3, 'y': 5}: 29, {'x': 5, 'y': 4}: 29, {'x': 6, 'y': 1}: 28, {'x': 6, 'y': 5}: 28, {'x': 7, 'y': 4}: 28, {'x': 4, 'y': 3}: 28, {'x': 3, 'y': 7}: 28, {'x': 3, 'y': 0}: 27, {'x': 5, 'y': 2}: 27, {'x': 4, 'y': 0}: 27, {'x': 3, 'y': 2}: 27, {'x': 1, 'y': 0}: 26, {'x': 0, 'y': 1}: 25, {'x': 5, 'y': 7}: 25, {'x': 6, 'y': 0}: 24, {'x': 4, 'y': 7}: 24, {'x': 0, 'y': 0}: 24, {'x': 2, 'y': 1}: 23, {'x': 6, 'y': 3}: 23, {'x': 5, 'y': 5}: 23, {'x': 5, 'y': 0}: 17]\n"
     ]
    }
   ],
   "source": [
    "from classiq import *\n",
    "\n",
    "@qfunc\n",
    "def main(x: Output[QNum], y: Output[QNum]) -> None:\n",
    "    \"\"\"\n",
    "    Quantum circuit simulating key distribution\n",
    "    \"\"\"\n",
    "    # Allocate quantum numbers for qubits and bases\n",
    "    allocate(3, x)  # Qubits\n",
    "    allocate(3, y)  # Bases\n",
    "    \n",
    "    # Create superposition for bases\n",
    "    hadamard_transform(x)\n",
    "    hadamard_transform(y)\n",
    "\n",
    "# Create the quantum model\n",
    "qmod = create_model(main)\n",
    "\n",
    "# Synthesize the circuit\n",
    "qprog = synthesize(qmod)\n",
    "\n",
    "# Visualize the circuit\n",
    "show(qprog)\n",
    "\n",
    "# Execute the quantum program\n",
    "job = execute(qprog)\n",
    "\n",
    "# Print results\n",
    "print(\"Quantum Key Distribution Simulation:\")\n",
    "results = job.get_sample_result().parsed_counts\n",
    "print(results)"
   ]
  }
 ],
 "metadata": {
  "kernelspec": {
   "display_name": "venv",
   "language": "python",
   "name": "python3"
  },
  "language_info": {
   "codemirror_mode": {
    "name": "ipython",
    "version": 3
   },
   "file_extension": ".py",
   "mimetype": "text/x-python",
   "name": "python",
   "nbconvert_exporter": "python",
   "pygments_lexer": "ipython3",
   "version": "3.11.5"
  }
 },
 "nbformat": 4,
 "nbformat_minor": 2
}
