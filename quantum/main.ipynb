{
 "cells": [
  {
   "cell_type": "code",
   "execution_count": 1,
   "metadata": {},
   "outputs": [],
   "source": [
    "# Import necessary libraries\n",
    "from qiskit import QuantumCircuit\n",
    "from qiskit.visualization import plot_bloch_multivector, plot_state_qsphere\n",
    "import matplotlib.pyplot as plt\n",
    "from qiskit.quantum_info import Statevector"
   ]
  },
  {
   "cell_type": "code",
   "execution_count": 2,
   "metadata": {},
   "outputs": [
    {
     "data": {
      "image/png": "[encoded data removed]",
      "text/plain": [
       "<Figure size 287.496x284.278 with 1 Axes>"
      ]
     },
     "execution_count": 2,
     "metadata": {},
     "output_type": "execute_result"
    }
   ],
   "source": [
    "# Create a Quantum Circuit with 3 qubits\n",
    "qc = QuantumCircuit(3)\n",
    "\n",
    "# Initialize inputs: Set qubits A and B to |1>\n",
    "qc.x(0)  # Qubit A = 1\n",
    "\n",
    "qc.x(1)  # Qubit B = 1\n",
    "\n",
    "# Apply the Toffoli (CCX) gate: Controlled-Controlled-NOT\n",
    "qc.ccx(0, 1, 2)  # If both qubits are 1, flip qubit C\n",
    "# Draw the quantum circuit\n",
    "qc.draw('mpl')"
   ]
  }
 ],
 "metadata": {
  "kernelspec": {
   "display_name": "venv",
   "language": "python",
   "name": "python3"
  },
  "language_info": {
   "codemirror_mode": {
    "name": "ipython",
    "version": 3
   },
   "file_extension": ".py",
   "mimetype": "text/x-python",
   "name": "python",
   "nbconvert_exporter": "python",
   "pygments_lexer": "ipython3",
   "version": "3.11.5"
  }
 },
 "nbformat": 4,
 "nbformat_minor": 2
}
