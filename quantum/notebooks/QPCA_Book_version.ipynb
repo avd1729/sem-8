{
 "cells": [
  {
   "cell_type": "markdown",
   "metadata": {},
   "source": [
    "# Quantum Principal Component Analysis (QPCA)\n",
    "## Step 1: Input Quantum State |ψA0⟩"
   ]
  },
  {
   "cell_type": "code",
   "execution_count": 1,
   "metadata": {},
   "outputs": [],
   "source": [
    "import numpy as np\n",
    "import matplotlib.pyplot as plt\n",
    "from qiskit import QuantumCircuit, transpile\n",
    "from qiskit_aer import AerSimulator\n",
    "from qiskit.visualization import plot_histogram\n",
    "\n",
    "# Function to create a symmetric correlation matrix\n",
    "def create_correlation_matrix(dimension):\n",
    "    random_matrix = np.random.rand(dimension, dimension)\n",
    "    correlation_matrix = (random_matrix + random_matrix.T) / 2\n",
    "    np.fill_diagonal(correlation_matrix, 1.0)\n",
    "    \n",
    "    eigenvalues, _ = np.linalg.eigh(correlation_matrix)\n",
    "    if np.any(eigenvalues < 0):\n",
    "        min_eig = np.min(eigenvalues)\n",
    "        correlation_matrix += np.eye(dimension) * (abs(min_eig) + 0.01)\n",
    "        d = np.sqrt(np.diag(correlation_matrix))\n",
    "        correlation_matrix = correlation_matrix / np.outer(d, d)\n",
    "    \n",
    "    return correlation_matrix\n"
   ]
  },
  {
   "cell_type": "markdown",
   "metadata": {},
   "source": [
    "## Step 2: Phase Estimation UP_E"
   ]
  },
  {
   "cell_type": "code",
   "execution_count": 2,
   "metadata": {},
   "outputs": [],
   "source": [
    "# Inverse Quantum Fourier Transform\n",
    "def inverse_qft(circuit, qubits):\n",
    "    n = len(qubits)\n",
    "    for qubit in range(n-1, -1, -1):\n",
    "        for control in range(qubit):\n",
    "            angle = -2 * np.pi / (2 ** (qubit - control + 1))\n",
    "            circuit.cp(angle, qubits[control], qubits[qubit])\n",
    "        circuit.h(qubits[qubit])\n",
    "    return circuit\n"
   ]
  },
  {
   "cell_type": "markdown",
   "metadata": {},
   "source": [
    "## Step 3: Unitary Operation Uσ,τ"
   ]
  },
  {
   "cell_type": "code",
   "execution_count": 3,
   "metadata": {},
   "outputs": [],
   "source": [
    "# Function to visualize quantum states and measurements\n",
    "def visualize_quantum_states(correlation_matrix, threshold, precision_qubits):\n",
    "    eigenvalues, eigenvectors = np.linalg.eigh(correlation_matrix)\n",
    "    normalized_eigenvalues = (eigenvalues - np.min(eigenvalues)) / (np.max(eigenvalues) - np.min(eigenvalues))\n",
    "    \n",
    "    thresholded_indices = np.where(normalized_eigenvalues >= threshold)[0]\n",
    "    thresholded_eigenvalues = normalized_eigenvalues[thresholded_indices]\n",
    "    \n",
    "    n_qubits = len(correlation_matrix)\n",
    "    total_qubits = 8\n",
    "    \n",
    "    circuit = QuantumCircuit(total_qubits, precision_qubits)\n",
    "\n",
    "    for i in range(precision_qubits):\n",
    "        circuit.h(i)\n",
    "\n",
    "    control_qubits = list(range(precision_qubits))\n",
    "    target_qubits = list(range(precision_qubits, precision_qubits + n_qubits))\n",
    "\n",
    "    for i in range(precision_qubits):\n",
    "        for j in range(n_qubits):\n",
    "            phase = normalized_eigenvalues[j] * (2**i) * 2 * np.pi\n",
    "            if precision_qubits + j < total_qubits:\n",
    "                circuit.cp(phase, i, precision_qubits + j)\n",
    "\n",
    "    inverse_qft(circuit, range(precision_qubits))\n",
    "    circuit.measure(range(precision_qubits), range(precision_qubits))\n",
    "\n",
    "    simulator = AerSimulator()\n",
    "    transpiled_circuit = transpile(circuit, simulator)\n",
    "    job = simulator.run(transpiled_circuit, shots=1000)\n",
    "    result = job.result()\n",
    "    measurement_results = result.get_counts()\n",
    "\n",
    "    return {\n",
    "        'correlation_matrix': correlation_matrix,\n",
    "        'eigenvalues': eigenvalues,\n",
    "        'normalized_eigenvalues': normalized_eigenvalues,\n",
    "        'thresholded_eigenvalues': thresholded_eigenvalues,\n",
    "        'eigenvectors': eigenvectors,\n",
    "        'circuit': circuit,\n",
    "        'measurement_results': measurement_results\n",
    "    }\n"
   ]
  },
  {
   "cell_type": "markdown",
   "metadata": {},
   "source": [
    "## Step 4: Applying Controlled Rotation Ry(α)"
   ]
  },
  {
   "cell_type": "code",
   "execution_count": 4,
   "metadata": {},
   "outputs": [],
   "source": [
    "# Run the QPCA process\n",
    "dimension = 4\n",
    "correlation_matrix = create_correlation_matrix(dimension)\n",
    "threshold = 0.5\n",
    "precision_qubits = 4\n",
    "\n",
    "results = visualize_quantum_states(correlation_matrix, threshold, precision_qubits)\n"
   ]
  },
  {
   "cell_type": "markdown",
   "metadata": {},
   "source": [
    "## Step 5: Measurement and Visualization"
   ]
  },
  {
   "cell_type": "code",
   "execution_count": 5,
   "metadata": {},
   "outputs": [
    {
     "name": "stdout",
     "output_type": "stream",
     "text": [
      "\n",
      "Correlation Matrix:\n",
      " [[1.         0.41664413 0.53659998 0.5746387 ]\n",
      " [0.41664413 1.         0.46877019 0.68422609]\n",
      " [0.53659998 0.46877019 1.         0.60998221]\n",
      " [0.5746387  0.68422609 0.60998221 1.        ]]\n",
      "\n",
      "Eigenvalues:\n",
      " [0.27159407 0.45661782 0.61881506 2.65297305]\n",
      "\n",
      "Normalized Eigenvalues:\n",
      " [0.         0.07769605 0.14580669 1.        ]\n",
      "\n",
      "Thresholded Eigenvalues:\n",
      " [1.]\n"
     ]
    },
    {
     "data": {
      "image/png": "[encoded data removed]",
      "text/plain": [
       "<Figure size 640x480 with 1 Axes>"
      ]
     },
     "execution_count": 5,
     "metadata": {},
     "output_type": "execute_result"
    }
   ],
   "source": [
    "# Display results\n",
    "print(\"\\nCorrelation Matrix:\\n\", results['correlation_matrix'])\n",
    "print(\"\\nEigenvalues:\\n\", results['eigenvalues'])\n",
    "print(\"\\nNormalized Eigenvalues:\\n\", results['normalized_eigenvalues'])\n",
    "print(\"\\nThresholded Eigenvalues:\\n\", results['thresholded_eigenvalues'])\n",
    "plot_histogram(results['measurement_results'])\n"
   ]
  }
 ],
 "metadata": {
  "kernelspec": {
   "display_name": "venv",
   "language": "python",
   "name": "python3"
  },
  "language_info": {
   "codemirror_mode": {
    "name": "ipython",
    "version": 3
   },
   "file_extension": ".py",
   "mimetype": "text/x-python",
   "name": "python",
   "nbconvert_exporter": "python",
   "pygments_lexer": "ipython3",
   "version": "3.11.5"
  }
 },
 "nbformat": 4,
 "nbformat_minor": 4
}
