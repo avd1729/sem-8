{
 "cells": [
  {
   "cell_type": "code",
   "execution_count": 1,
   "metadata": {},
   "outputs": [
    {
     "name": "stderr",
     "output_type": "stream",
     "text": [
      "c:\\Users\\Aravind\\college\\quantum\\venv\\Lib\\site-packages\\classiq\\_internals\\authentication\\token_manager.py:101: UserWarning: Device is already registered.\n",
      "Generating a new refresh token should only be done if the current refresh token is compromised.\n",
      "To do so, set the overwrite parameter to true\n",
      "  warnings.warn(\n"
     ]
    }
   ],
   "source": [
    "import classiq\n",
    "classiq.authenticate()"
   ]
  },
  {
   "cell_type": "code",
   "execution_count": 5,
   "metadata": {},
   "outputs": [
    {
     "name": "stdout",
     "output_type": "stream",
     "text": [
      "Opening: https://platform.classiq.io/circuit/2unpI4a85jhPFFBN30yrIsOk3WI?login=True&version=0.70.0\n",
      "Quantum Key Distribution Simulation:\n",
      "[{'x': 3, 'y': 3}: 49, {'x': 2, 'y': 4}: 48, {'x': 4, 'y': 5}: 45, {'x': 6, 'y': 7}: 44, {'x': 4, 'y': 4}: 44, {'x': 1, 'y': 2}: 43, {'x': 0, 'y': 6}: 42, {'x': 0, 'y': 7}: 40, {'x': 2, 'y': 6}: 39, {'x': 3, 'y': 1}: 39, {'x': 3, 'y': 6}: 38, {'x': 2, 'y': 7}: 37, {'x': 1, 'y': 5}: 37, {'x': 5, 'y': 6}: 36, {'x': 4, 'y': 6}: 36, {'x': 7, 'y': 0}: 35, {'x': 4, 'y': 2}: 35, {'x': 6, 'y': 6}: 35, {'x': 1, 'y': 6}: 34, {'x': 2, 'y': 2}: 34, {'x': 1, 'y': 7}: 34, {'x': 7, 'y': 2}: 33, {'x': 6, 'y': 4}: 33, {'x': 3, 'y': 4}: 33, {'x': 6, 'y': 2}: 33, {'x': 4, 'y': 1}: 33, {'x': 7, 'y': 6}: 33, {'x': 2, 'y': 0}: 32, {'x': 2, 'y': 5}: 32, {'x': 5, 'y': 3}: 32, {'x': 2, 'y': 3}: 32, {'x': 0, 'y': 4}: 31, {'x': 7, 'y': 5}: 31, {'x': 1, 'y': 1}: 31, {'x': 7, 'y': 7}: 30, {'x': 5, 'y': 1}: 30, {'x': 1, 'y': 3}: 30, {'x': 0, 'y': 5}: 30, {'x': 7, 'y': 3}: 29, {'x': 7, 'y': 1}: 29, {'x': 0, 'y': 2}: 29, {'x': 1, 'y': 4}: 29, {'x': 0, 'y': 3}: 29, {'x': 3, 'y': 5}: 29, {'x': 5, 'y': 4}: 29, {'x': 6, 'y': 1}: 28, {'x': 6, 'y': 5}: 28, {'x': 7, 'y': 4}: 28, {'x': 4, 'y': 3}: 28, {'x': 3, 'y': 7}: 28, {'x': 3, 'y': 0}: 27, {'x': 5, 'y': 2}: 27, {'x': 4, 'y': 0}: 27, {'x': 3, 'y': 2}: 27, {'x': 1, 'y': 0}: 26, {'x': 0, 'y': 1}: 25, {'x': 5, 'y': 7}: 25, {'x': 6, 'y': 0}: 24, {'x': 4, 'y': 7}: 24, {'x': 0, 'y': 0}: 24, {'x': 2, 'y': 1}: 23, {'x': 6, 'y': 3}: 23, {'x': 5, 'y': 5}: 23, {'x': 5, 'y': 0}: 17]\n"
     ]
    }
   ],
   "source": [
    "from classiq import *\n",
    "\n",
    "@qfunc\n",
    "def main(x: Output[QNum], y: Output[QNum]) -> None:\n",
    "    \"\"\"\n",
    "    Quantum circuit simulating key distribution\n",
    "    \"\"\"\n",
    "    # Allocate quantum numbers for qubits and bases\n",
    "    allocate(3, x)  # Qubits\n",
    "    allocate(3, y)  # Bases\n",
    "    \n",
    "    # Create superposition for bases\n",
    "    hadamard_transform(x)\n",
    "    hadamard_transform(y)\n",
    "\n",
    "# Create the quantum model\n",
    "qmod = create_model(main)\n",
    "\n",
    "# Synthesize the circuit\n",
    "qprog = synthesize(qmod)\n",
    "\n",
    "# Visualize the circuit\n",
    "show(qprog)\n",
    "\n",
    "# Execute the quantum program\n",
    "job = execute(qprog)\n",
    "\n",
    "# Print results\n",
    "print(\"Quantum Key Distribution Simulation:\")\n",
    "results = job.get_sample_result().parsed_counts\n",
    "print(results)"
   ]
  },
  {
   "cell_type": "code",
   "execution_count": null,
   "metadata": {},
   "outputs": [
    {
     "ename": "AttributeError",
     "evalue": "'QBit' object has no attribute 'h'",
     "output_type": "error",
     "traceback": [
      "\u001b[1;31m---------------------------------------------------------------------------\u001b[0m",
      "\u001b[1;31mAttributeError\u001b[0m                            Traceback (most recent call last)",
      "Cell \u001b[1;32mIn[13], line 77\u001b[0m\n\u001b[0;32m     74\u001b[0m     \u001b[38;5;28mprint\u001b[39m(\u001b[38;5;124m\"\u001b[39m\u001b[38;5;124mShared Key Length:\u001b[39m\u001b[38;5;124m\"\u001b[39m, \u001b[38;5;28mlen\u001b[39m(shared_key))\n\u001b[0;32m     76\u001b[0m \u001b[38;5;66;03m# Run the BB84 simulation\u001b[39;00m\n\u001b[1;32m---> 77\u001b[0m \u001b[43mbb84_key_distribution\u001b[49m\u001b[43m(\u001b[49m\u001b[43m)\u001b[49m\n",
      "Cell \u001b[1;32mIn[13], line 53\u001b[0m, in \u001b[0;36mbb84_key_distribution\u001b[1;34m()\u001b[0m\n\u001b[0;32m     50\u001b[0m     measure_bob_qubits(alice_states, bob_bases, bob_results)\n\u001b[0;32m     52\u001b[0m \u001b[38;5;66;03m# Create and synthesize the quantum model\u001b[39;00m\n\u001b[1;32m---> 53\u001b[0m qmod \u001b[38;5;241m=\u001b[39m \u001b[43mcreate_model\u001b[49m\u001b[43m(\u001b[49m\u001b[43mmain\u001b[49m\u001b[43m)\u001b[49m\n\u001b[0;32m     54\u001b[0m qprog \u001b[38;5;241m=\u001b[39m synthesize(qmod)\n\u001b[0;32m     56\u001b[0m \u001b[38;5;66;03m# Execute the quantum program\u001b[39;00m\n",
      "File \u001b[1;32mc:\\Users\\Aravind\\college\\quantum\\venv\\Lib\\site-packages\\classiq\\qmod\\create_model_function.py:45\u001b[0m, in \u001b[0;36mcreate_model\u001b[1;34m(entry_point, constraints, execution_preferences, preferences, classical_execution_function, out_file)\u001b[0m\n\u001b[0;32m     40\u001b[0m \u001b[38;5;28;01mif\u001b[39;00m entry_point\u001b[38;5;241m.\u001b[39mfunc_decl\u001b[38;5;241m.\u001b[39mname \u001b[38;5;241m!=\u001b[39m MAIN_FUNCTION_NAME:\n\u001b[0;32m     41\u001b[0m     \u001b[38;5;28;01mraise\u001b[39;00m ClassiqError(\n\u001b[0;32m     42\u001b[0m         \u001b[38;5;124mf\u001b[39m\u001b[38;5;124m\"\u001b[39m\u001b[38;5;124mThe entry point function must be named \u001b[39m\u001b[38;5;124m'\u001b[39m\u001b[38;5;124mmain\u001b[39m\u001b[38;5;124m'\u001b[39m\u001b[38;5;124m, got \u001b[39m\u001b[38;5;124m'\u001b[39m\u001b[38;5;132;01m{\u001b[39;00mentry_point\u001b[38;5;241m.\u001b[39mfunc_decl\u001b[38;5;241m.\u001b[39mname\u001b[38;5;132;01m}\u001b[39;00m\u001b[38;5;124m'\u001b[39m\u001b[38;5;124m\"\u001b[39m\n\u001b[0;32m     43\u001b[0m     )\n\u001b[1;32m---> 45\u001b[0m model \u001b[38;5;241m=\u001b[39m \u001b[43mentry_point\u001b[49m\u001b[38;5;241;43m.\u001b[39;49m\u001b[43mcreate_model\u001b[49m\u001b[43m(\u001b[49m\n\u001b[0;32m     46\u001b[0m \u001b[43m    \u001b[49m\u001b[43mconstraints\u001b[49m\u001b[43m,\u001b[49m\n\u001b[0;32m     47\u001b[0m \u001b[43m    \u001b[49m\u001b[43mexecution_preferences\u001b[49m\u001b[43m,\u001b[49m\n\u001b[0;32m     48\u001b[0m \u001b[43m    \u001b[49m\u001b[43mpreferences\u001b[49m\u001b[43m,\u001b[49m\n\u001b[0;32m     49\u001b[0m \u001b[43m    \u001b[49m\u001b[43mclassical_execution_function\u001b[49m\u001b[43m,\u001b[49m\n\u001b[0;32m     50\u001b[0m \u001b[43m\u001b[49m\u001b[43m)\u001b[49m\n\u001b[0;32m     51\u001b[0m result \u001b[38;5;241m=\u001b[39m model\u001b[38;5;241m.\u001b[39mget_model()\n\u001b[0;32m     53\u001b[0m \u001b[38;5;28;01mif\u001b[39;00m out_file \u001b[38;5;129;01mis\u001b[39;00m \u001b[38;5;129;01mnot\u001b[39;00m \u001b[38;5;28;01mNone\u001b[39;00m:\n",
      "File \u001b[1;32mc:\\Users\\Aravind\\college\\quantum\\venv\\Lib\\site-packages\\classiq\\qmod\\quantum_function.py:133\u001b[0m, in \u001b[0;36mQFunc.create_model\u001b[1;34m(self, constraints, execution_preferences, preferences, classical_execution_function)\u001b[0m\n\u001b[0;32m    131\u001b[0m \u001b[38;5;28mself\u001b[39m\u001b[38;5;241m.\u001b[39m_qmodule\u001b[38;5;241m.\u001b[39mfunction_dependencies \u001b[38;5;241m=\u001b[39m defaultdict(\u001b[38;5;28mlist\u001b[39m)\n\u001b[0;32m    132\u001b[0m QConstant\u001b[38;5;241m.\u001b[39mset_current_model(\u001b[38;5;28mself\u001b[39m\u001b[38;5;241m.\u001b[39m_qmodule)\n\u001b[1;32m--> 133\u001b[0m \u001b[38;5;28;43mself\u001b[39;49m\u001b[38;5;241;43m.\u001b[39;49m\u001b[43mexpand\u001b[49m\u001b[43m(\u001b[49m\u001b[43m)\u001b[49m\n\u001b[0;32m    134\u001b[0m model_extra_settings: \u001b[38;5;28mlist\u001b[39m[\u001b[38;5;28mtuple\u001b[39m[\u001b[38;5;28mstr\u001b[39m, Any]] \u001b[38;5;241m=\u001b[39m [\n\u001b[0;32m    135\u001b[0m     (\u001b[38;5;124m\"\u001b[39m\u001b[38;5;124mconstraints\u001b[39m\u001b[38;5;124m\"\u001b[39m, constraints),\n\u001b[0;32m    136\u001b[0m     (\u001b[38;5;124m\"\u001b[39m\u001b[38;5;124mexecution_preferences\u001b[39m\u001b[38;5;124m\"\u001b[39m, execution_preferences),\n\u001b[0;32m    137\u001b[0m     (\u001b[38;5;124m\"\u001b[39m\u001b[38;5;124mpreferences\u001b[39m\u001b[38;5;124m\"\u001b[39m, preferences),\n\u001b[0;32m    138\u001b[0m ]\n\u001b[0;32m    139\u001b[0m \u001b[38;5;28;01mif\u001b[39;00m classical_execution_function \u001b[38;5;129;01mis\u001b[39;00m \u001b[38;5;129;01mnot\u001b[39;00m \u001b[38;5;28;01mNone\u001b[39;00m:\n",
      "File \u001b[1;32mc:\\Users\\Aravind\\college\\quantum\\venv\\Lib\\site-packages\\classiq\\qmod\\quantum_function.py:184\u001b[0m, in \u001b[0;36mQFunc.expand\u001b[1;34m(self)\u001b[0m\n\u001b[0;32m    182\u001b[0m \u001b[38;5;28;01mif\u001b[39;00m \u001b[38;5;28mself\u001b[39m\u001b[38;5;241m.\u001b[39mfunc_decl\u001b[38;5;241m.\u001b[39mname \u001b[38;5;129;01min\u001b[39;00m \u001b[38;5;28mself\u001b[39m\u001b[38;5;241m.\u001b[39m_qmodule\u001b[38;5;241m.\u001b[39mnative_defs:\n\u001b[0;32m    183\u001b[0m     \u001b[38;5;28;01mreturn\u001b[39;00m\n\u001b[1;32m--> 184\u001b[0m \u001b[38;5;28;43msuper\u001b[39;49m\u001b[43m(\u001b[49m\u001b[43m)\u001b[49m\u001b[38;5;241;43m.\u001b[39;49m\u001b[43mexpand\u001b[49m\u001b[43m(\u001b[49m\u001b[43m)\u001b[49m\n\u001b[0;32m    185\u001b[0m \u001b[38;5;28mself\u001b[39m\u001b[38;5;241m.\u001b[39m_qmodule\u001b[38;5;241m.\u001b[39mnative_defs[\u001b[38;5;28mself\u001b[39m\u001b[38;5;241m.\u001b[39mfunc_decl\u001b[38;5;241m.\u001b[39mname] \u001b[38;5;241m=\u001b[39m NativeFunctionDefinition(\n\u001b[0;32m    186\u001b[0m     \u001b[38;5;241m*\u001b[39m\u001b[38;5;241m*\u001b[39m{\u001b[38;5;241m*\u001b[39m\u001b[38;5;241m*\u001b[39m\u001b[38;5;28mself\u001b[39m\u001b[38;5;241m.\u001b[39mfunc_decl\u001b[38;5;241m.\u001b[39mmodel_dump(), \u001b[38;5;241m*\u001b[39m\u001b[38;5;241m*\u001b[39m{\u001b[38;5;124m\"\u001b[39m\u001b[38;5;124mbody\u001b[39m\u001b[38;5;124m\"\u001b[39m: \u001b[38;5;28mself\u001b[39m\u001b[38;5;241m.\u001b[39mbody}}\n\u001b[0;32m    187\u001b[0m )\n\u001b[0;32m    188\u001b[0m \u001b[38;5;28;01mif\u001b[39;00m \u001b[38;5;28mself\u001b[39m\u001b[38;5;241m.\u001b[39mcompilation_metadata \u001b[38;5;129;01mis\u001b[39;00m \u001b[38;5;129;01mnot\u001b[39;00m \u001b[38;5;28;01mNone\u001b[39;00m:\n",
      "File \u001b[1;32mc:\\Users\\Aravind\\college\\quantum\\venv\\Lib\\site-packages\\classiq\\qmod\\quantum_expandable.py:115\u001b[0m, in \u001b[0;36mQExpandable.expand\u001b[1;34m(self)\u001b[0m\n\u001b[0;32m    113\u001b[0m \u001b[38;5;28;01mif\u001b[39;00m \u001b[38;5;28mself\u001b[39m \u001b[38;5;129;01mnot\u001b[39;00m \u001b[38;5;129;01min\u001b[39;00m QExpandable\u001b[38;5;241m.\u001b[39mSTACK:\n\u001b[0;32m    114\u001b[0m     \u001b[38;5;28;01mwith\u001b[39;00m \u001b[38;5;28mself\u001b[39m, generative_mode_context(\u001b[38;5;28;01mFalse\u001b[39;00m):\n\u001b[1;32m--> 115\u001b[0m         \u001b[38;5;28;43mself\u001b[39;49m\u001b[38;5;241;43m.\u001b[39;49m\u001b[43m_py_callable\u001b[49m\u001b[43m(\u001b[49m\u001b[38;5;241;43m*\u001b[39;49m\u001b[38;5;28;43mself\u001b[39;49m\u001b[38;5;241;43m.\u001b[39;49m\u001b[43m_get_positional_args\u001b[49m\u001b[43m(\u001b[49m\u001b[43m)\u001b[49m\u001b[43m)\u001b[49m\n",
      "Cell \u001b[1;32mIn[13], line 47\u001b[0m, in \u001b[0;36mbb84_key_distribution.<locals>.main\u001b[1;34m(alice_states, alice_bases, bob_bases, bob_results)\u001b[0m\n\u001b[0;32m     39\u001b[0m \u001b[38;5;129m@qfunc\u001b[39m\n\u001b[0;32m     40\u001b[0m \u001b[38;5;28;01mdef\u001b[39;00m \u001b[38;5;21mmain\u001b[39m(\n\u001b[0;32m     41\u001b[0m     alice_states: Output[QArray[\u001b[38;5;241m8\u001b[39m]], \n\u001b[1;32m   (...)\u001b[0m\n\u001b[0;32m     45\u001b[0m ) \u001b[38;5;241m-\u001b[39m\u001b[38;5;241m>\u001b[39m \u001b[38;5;28;01mNone\u001b[39;00m:\n\u001b[0;32m     46\u001b[0m     \u001b[38;5;66;03m# Alice generates qubits\u001b[39;00m\n\u001b[1;32m---> 47\u001b[0m     \u001b[43mgenerate_alice_qubits\u001b[49m\u001b[43m(\u001b[49m\u001b[43malice_states\u001b[49m\u001b[43m,\u001b[49m\u001b[43m \u001b[49m\u001b[43malice_bases\u001b[49m\u001b[43m)\u001b[49m\n\u001b[0;32m     49\u001b[0m     \u001b[38;5;66;03m# Bob measures the qubits\u001b[39;00m\n\u001b[0;32m     50\u001b[0m     measure_bob_qubits(alice_states, bob_bases, bob_results)\n",
      "File \u001b[1;32mc:\\Users\\Aravind\\college\\quantum\\venv\\Lib\\site-packages\\classiq\\qmod\\quantum_function.py:114\u001b[0m, in \u001b[0;36mQFunc.__call__\u001b[1;34m(self, *args, **kwargs)\u001b[0m\n\u001b[0;32m    113\u001b[0m \u001b[38;5;28;01mdef\u001b[39;00m \u001b[38;5;21m__call__\u001b[39m(\u001b[38;5;28mself\u001b[39m, \u001b[38;5;241m*\u001b[39margs: Any, \u001b[38;5;241m*\u001b[39m\u001b[38;5;241m*\u001b[39mkwargs: Any) \u001b[38;5;241m-\u001b[39m\u001b[38;5;241m>\u001b[39m \u001b[38;5;28;01mNone\u001b[39;00m:\n\u001b[1;32m--> 114\u001b[0m     \u001b[38;5;28;43mself\u001b[39;49m\u001b[38;5;241;43m.\u001b[39;49m\u001b[43mexpand\u001b[49m\u001b[43m(\u001b[49m\u001b[43m)\u001b[49m\n\u001b[0;32m    115\u001b[0m     \u001b[38;5;28msuper\u001b[39m()\u001b[38;5;241m.\u001b[39m\u001b[38;5;21m__call__\u001b[39m(\u001b[38;5;241m*\u001b[39margs, \u001b[38;5;241m*\u001b[39m\u001b[38;5;241m*\u001b[39mkwargs)\n",
      "File \u001b[1;32mc:\\Users\\Aravind\\college\\quantum\\venv\\Lib\\site-packages\\classiq\\qmod\\quantum_function.py:184\u001b[0m, in \u001b[0;36mQFunc.expand\u001b[1;34m(self)\u001b[0m\n\u001b[0;32m    182\u001b[0m \u001b[38;5;28;01mif\u001b[39;00m \u001b[38;5;28mself\u001b[39m\u001b[38;5;241m.\u001b[39mfunc_decl\u001b[38;5;241m.\u001b[39mname \u001b[38;5;129;01min\u001b[39;00m \u001b[38;5;28mself\u001b[39m\u001b[38;5;241m.\u001b[39m_qmodule\u001b[38;5;241m.\u001b[39mnative_defs:\n\u001b[0;32m    183\u001b[0m     \u001b[38;5;28;01mreturn\u001b[39;00m\n\u001b[1;32m--> 184\u001b[0m \u001b[38;5;28;43msuper\u001b[39;49m\u001b[43m(\u001b[49m\u001b[43m)\u001b[49m\u001b[38;5;241;43m.\u001b[39;49m\u001b[43mexpand\u001b[49m\u001b[43m(\u001b[49m\u001b[43m)\u001b[49m\n\u001b[0;32m    185\u001b[0m \u001b[38;5;28mself\u001b[39m\u001b[38;5;241m.\u001b[39m_qmodule\u001b[38;5;241m.\u001b[39mnative_defs[\u001b[38;5;28mself\u001b[39m\u001b[38;5;241m.\u001b[39mfunc_decl\u001b[38;5;241m.\u001b[39mname] \u001b[38;5;241m=\u001b[39m NativeFunctionDefinition(\n\u001b[0;32m    186\u001b[0m     \u001b[38;5;241m*\u001b[39m\u001b[38;5;241m*\u001b[39m{\u001b[38;5;241m*\u001b[39m\u001b[38;5;241m*\u001b[39m\u001b[38;5;28mself\u001b[39m\u001b[38;5;241m.\u001b[39mfunc_decl\u001b[38;5;241m.\u001b[39mmodel_dump(), \u001b[38;5;241m*\u001b[39m\u001b[38;5;241m*\u001b[39m{\u001b[38;5;124m\"\u001b[39m\u001b[38;5;124mbody\u001b[39m\u001b[38;5;124m\"\u001b[39m: \u001b[38;5;28mself\u001b[39m\u001b[38;5;241m.\u001b[39mbody}}\n\u001b[0;32m    187\u001b[0m )\n\u001b[0;32m    188\u001b[0m \u001b[38;5;28;01mif\u001b[39;00m \u001b[38;5;28mself\u001b[39m\u001b[38;5;241m.\u001b[39mcompilation_metadata \u001b[38;5;129;01mis\u001b[39;00m \u001b[38;5;129;01mnot\u001b[39;00m \u001b[38;5;28;01mNone\u001b[39;00m:\n",
      "File \u001b[1;32mc:\\Users\\Aravind\\college\\quantum\\venv\\Lib\\site-packages\\classiq\\qmod\\quantum_expandable.py:115\u001b[0m, in \u001b[0;36mQExpandable.expand\u001b[1;34m(self)\u001b[0m\n\u001b[0;32m    113\u001b[0m \u001b[38;5;28;01mif\u001b[39;00m \u001b[38;5;28mself\u001b[39m \u001b[38;5;129;01mnot\u001b[39;00m \u001b[38;5;129;01min\u001b[39;00m QExpandable\u001b[38;5;241m.\u001b[39mSTACK:\n\u001b[0;32m    114\u001b[0m     \u001b[38;5;28;01mwith\u001b[39;00m \u001b[38;5;28mself\u001b[39m, generative_mode_context(\u001b[38;5;28;01mFalse\u001b[39;00m):\n\u001b[1;32m--> 115\u001b[0m         \u001b[38;5;28;43mself\u001b[39;49m\u001b[38;5;241;43m.\u001b[39;49m\u001b[43m_py_callable\u001b[49m\u001b[43m(\u001b[49m\u001b[38;5;241;43m*\u001b[39;49m\u001b[38;5;28;43mself\u001b[39;49m\u001b[38;5;241;43m.\u001b[39;49m\u001b[43m_get_positional_args\u001b[49m\u001b[43m(\u001b[49m\u001b[43m)\u001b[49m\u001b[43m)\u001b[49m\n",
      "Cell \u001b[1;32mIn[13], line 15\u001b[0m, in \u001b[0;36mgenerate_alice_qubits\u001b[1;34m(x, bases)\u001b[0m\n\u001b[0;32m     12\u001b[0m hadamard_transform(bases)\n\u001b[0;32m     14\u001b[0m \u001b[38;5;66;03m# Prepare Alice's qubits based on random bases\u001b[39;00m\n\u001b[1;32m---> 15\u001b[0m \u001b[43mrepeat\u001b[49m\u001b[43m(\u001b[49m\u001b[38;5;241;43m8\u001b[39;49m\u001b[43m,\u001b[49m\u001b[43m \u001b[49m\u001b[38;5;28;43;01mlambda\u001b[39;49;00m\u001b[43m \u001b[49m\u001b[43mi\u001b[49m\u001b[43m:\u001b[49m\u001b[43m \u001b[49m\u001b[43mcontrol\u001b[49m\u001b[43m(\u001b[49m\u001b[43mbases\u001b[49m\u001b[43m[\u001b[49m\u001b[43mi\u001b[49m\u001b[43m]\u001b[49m\u001b[43m,\u001b[49m\u001b[43m \u001b[49m\u001b[38;5;28;43;01mlambda\u001b[39;49;00m\u001b[43m:\u001b[49m\u001b[43m \u001b[49m\u001b[43mx\u001b[49m\u001b[43m[\u001b[49m\u001b[43mi\u001b[49m\u001b[43m]\u001b[49m\u001b[38;5;241;43m.\u001b[39;49m\u001b[43mh\u001b[49m\u001b[43m(\u001b[49m\u001b[43m)\u001b[49m\u001b[43m)\u001b[49m\u001b[43m)\u001b[49m\n",
      "File \u001b[1;32mc:\\Users\\Aravind\\college\\quantum\\venv\\Lib\\site-packages\\classiq\\qmod\\builtins\\operations.py:298\u001b[0m, in \u001b[0;36mrepeat\u001b[1;34m(count, iteration)\u001b[0m\n\u001b[0;32m    296\u001b[0m \u001b[38;5;28;01massert\u001b[39;00m QCallable\u001b[38;5;241m.\u001b[39mCURRENT_EXPANDABLE \u001b[38;5;129;01mis\u001b[39;00m \u001b[38;5;129;01mnot\u001b[39;00m \u001b[38;5;28;01mNone\u001b[39;00m\n\u001b[0;32m    297\u001b[0m source_ref \u001b[38;5;241m=\u001b[39m get_source_ref(sys\u001b[38;5;241m.\u001b[39m_getframe(\u001b[38;5;241m1\u001b[39m))\n\u001b[1;32m--> 298\u001b[0m iteration_operand \u001b[38;5;241m=\u001b[39m \u001b[43mprepare_arg\u001b[49m\u001b[43m(\u001b[49m\n\u001b[0;32m    299\u001b[0m \u001b[43m    \u001b[49m\u001b[43mQuantumOperandDeclaration\u001b[49m\u001b[43m(\u001b[49m\n\u001b[0;32m    300\u001b[0m \u001b[43m        \u001b[49m\u001b[43mname\u001b[49m\u001b[38;5;241;43m=\u001b[39;49m\u001b[43mREPEAT_OPERATOR_NAME\u001b[49m\u001b[43m,\u001b[49m\n\u001b[0;32m    301\u001b[0m \u001b[43m        \u001b[49m\u001b[43mpositional_arg_declarations\u001b[49m\u001b[38;5;241;43m=\u001b[39;49m\u001b[43m[\u001b[49m\n\u001b[0;32m    302\u001b[0m \u001b[43m            \u001b[49m\u001b[43mClassicalParameterDeclaration\u001b[49m\u001b[43m(\u001b[49m\u001b[43mname\u001b[49m\u001b[38;5;241;43m=\u001b[39;49m\u001b[38;5;124;43m\"\u001b[39;49m\u001b[38;5;124;43mindex\u001b[39;49m\u001b[38;5;124;43m\"\u001b[39;49m\u001b[43m,\u001b[49m\u001b[43m \u001b[49m\u001b[43mclassical_type\u001b[49m\u001b[38;5;241;43m=\u001b[39;49m\u001b[43mInteger\u001b[49m\u001b[43m(\u001b[49m\u001b[43m)\u001b[49m\u001b[43m)\u001b[49m\u001b[43m,\u001b[49m\n\u001b[0;32m    303\u001b[0m \u001b[43m        \u001b[49m\u001b[43m]\u001b[49m\u001b[43m,\u001b[49m\n\u001b[0;32m    304\u001b[0m \u001b[43m    \u001b[49m\u001b[43m)\u001b[49m\u001b[43m,\u001b[49m\n\u001b[0;32m    305\u001b[0m \u001b[43m    \u001b[49m\u001b[43miteration\u001b[49m\u001b[43m,\u001b[49m\n\u001b[0;32m    306\u001b[0m \u001b[43m    \u001b[49m\u001b[43mrepeat\u001b[49m\u001b[38;5;241;43m.\u001b[39;49m\u001b[38;5;18;43m__name__\u001b[39;49m\u001b[43m,\u001b[49m\n\u001b[0;32m    307\u001b[0m \u001b[43m    \u001b[49m\u001b[38;5;124;43m\"\u001b[39;49m\u001b[38;5;124;43miteration\u001b[39;49m\u001b[38;5;124;43m\"\u001b[39;49m\u001b[43m,\u001b[49m\n\u001b[0;32m    308\u001b[0m \u001b[43m\u001b[49m\u001b[43m)\u001b[49m\n\u001b[0;32m    309\u001b[0m \u001b[38;5;28;01mif\u001b[39;00m \u001b[38;5;129;01mnot\u001b[39;00m \u001b[38;5;28misinstance\u001b[39m(iteration_operand, QuantumLambdaFunction):\n\u001b[0;32m    310\u001b[0m     \u001b[38;5;28;01mraise\u001b[39;00m ClassiqValueError(\n\u001b[0;32m    311\u001b[0m         \u001b[38;5;124m\"\u001b[39m\u001b[38;5;124mArgument \u001b[39m\u001b[38;5;124m'\u001b[39m\u001b[38;5;124miteration\u001b[39m\u001b[38;5;124m'\u001b[39m\u001b[38;5;124m to \u001b[39m\u001b[38;5;124m'\u001b[39m\u001b[38;5;124mrepeat\u001b[39m\u001b[38;5;124m'\u001b[39m\u001b[38;5;124m should be a callable that takes one integer argument.\u001b[39m\u001b[38;5;124m\"\u001b[39m\n\u001b[0;32m    312\u001b[0m     )\n",
      "File \u001b[1;32mc:\\Users\\Aravind\\college\\quantum\\venv\\Lib\\site-packages\\classiq\\qmod\\quantum_expandable.py:359\u001b[0m, in \u001b[0;36mprepare_arg\u001b[1;34m(arg_decl, val, func_name, param_name)\u001b[0m\n\u001b[0;32m    357\u001b[0m new_arg_decl \u001b[38;5;241m=\u001b[39m decl_without_type_attributes(arg_decl)\n\u001b[0;32m    358\u001b[0m val \u001b[38;5;241m=\u001b[39m QLambdaFunction(new_arg_decl, val)\n\u001b[1;32m--> 359\u001b[0m \u001b[43mval\u001b[49m\u001b[38;5;241;43m.\u001b[39;49m\u001b[43mexpand\u001b[49m\u001b[43m(\u001b[49m\u001b[43m)\u001b[49m\n\u001b[0;32m    360\u001b[0m qlambda \u001b[38;5;241m=\u001b[39m QuantumLambdaFunction(\n\u001b[0;32m    361\u001b[0m     pos_rename_params\u001b[38;5;241m=\u001b[39mval\u001b[38;5;241m.\u001b[39minfer_rename_params(),\n\u001b[0;32m    362\u001b[0m     body\u001b[38;5;241m=\u001b[39mval\u001b[38;5;241m.\u001b[39mbody,\n\u001b[0;32m    363\u001b[0m )\n\u001b[0;32m    364\u001b[0m \u001b[38;5;28;01mif\u001b[39;00m is_generative_mode():\n",
      "File \u001b[1;32mc:\\Users\\Aravind\\college\\quantum\\venv\\Lib\\site-packages\\classiq\\qmod\\quantum_expandable.py:198\u001b[0m, in \u001b[0;36mQLambdaFunction.expand\u001b[1;34m(self)\u001b[0m\n\u001b[0;32m    196\u001b[0m \u001b[38;5;28;01mdef\u001b[39;00m \u001b[38;5;21mexpand\u001b[39m(\u001b[38;5;28mself\u001b[39m) \u001b[38;5;241m-\u001b[39m\u001b[38;5;241m>\u001b[39m \u001b[38;5;28;01mNone\u001b[39;00m:\n\u001b[0;32m    197\u001b[0m     \u001b[38;5;28;01mif\u001b[39;00m \u001b[38;5;129;01mnot\u001b[39;00m is_generative_mode():\n\u001b[1;32m--> 198\u001b[0m         \u001b[38;5;28;43msuper\u001b[39;49m\u001b[43m(\u001b[49m\u001b[43m)\u001b[49m\u001b[38;5;241;43m.\u001b[39;49m\u001b[43mexpand\u001b[49m\u001b[43m(\u001b[49m\u001b[43m)\u001b[49m\n",
      "File \u001b[1;32mc:\\Users\\Aravind\\college\\quantum\\venv\\Lib\\site-packages\\classiq\\qmod\\quantum_expandable.py:115\u001b[0m, in \u001b[0;36mQExpandable.expand\u001b[1;34m(self)\u001b[0m\n\u001b[0;32m    113\u001b[0m \u001b[38;5;28;01mif\u001b[39;00m \u001b[38;5;28mself\u001b[39m \u001b[38;5;129;01mnot\u001b[39;00m \u001b[38;5;129;01min\u001b[39;00m QExpandable\u001b[38;5;241m.\u001b[39mSTACK:\n\u001b[0;32m    114\u001b[0m     \u001b[38;5;28;01mwith\u001b[39;00m \u001b[38;5;28mself\u001b[39m, generative_mode_context(\u001b[38;5;28;01mFalse\u001b[39;00m):\n\u001b[1;32m--> 115\u001b[0m         \u001b[38;5;28;43mself\u001b[39;49m\u001b[38;5;241;43m.\u001b[39;49m\u001b[43m_py_callable\u001b[49m\u001b[43m(\u001b[49m\u001b[38;5;241;43m*\u001b[39;49m\u001b[38;5;28;43mself\u001b[39;49m\u001b[38;5;241;43m.\u001b[39;49m\u001b[43m_get_positional_args\u001b[49m\u001b[43m(\u001b[49m\u001b[43m)\u001b[49m\u001b[43m)\u001b[49m\n",
      "Cell \u001b[1;32mIn[13], line 15\u001b[0m, in \u001b[0;36mgenerate_alice_qubits.<locals>.<lambda>\u001b[1;34m(i)\u001b[0m\n\u001b[0;32m     12\u001b[0m hadamard_transform(bases)\n\u001b[0;32m     14\u001b[0m \u001b[38;5;66;03m# Prepare Alice's qubits based on random bases\u001b[39;00m\n\u001b[1;32m---> 15\u001b[0m repeat(\u001b[38;5;241m8\u001b[39m, \u001b[38;5;28;01mlambda\u001b[39;00m i: \u001b[43mcontrol\u001b[49m\u001b[43m(\u001b[49m\u001b[43mbases\u001b[49m\u001b[43m[\u001b[49m\u001b[43mi\u001b[49m\u001b[43m]\u001b[49m\u001b[43m,\u001b[49m\u001b[43m \u001b[49m\u001b[38;5;28;43;01mlambda\u001b[39;49;00m\u001b[43m:\u001b[49m\u001b[43m \u001b[49m\u001b[43mx\u001b[49m\u001b[43m[\u001b[49m\u001b[43mi\u001b[49m\u001b[43m]\u001b[49m\u001b[38;5;241;43m.\u001b[39;49m\u001b[43mh\u001b[49m\u001b[43m(\u001b[49m\u001b[43m)\u001b[49m\u001b[43m)\u001b[49m)\n",
      "File \u001b[1;32mc:\\Users\\Aravind\\college\\quantum\\venv\\Lib\\site-packages\\classiq\\qmod\\builtins\\operations.py:166\u001b[0m, in \u001b[0;36mcontrol\u001b[1;34m(ctrl, stmt_block, else_block)\u001b[0m\n\u001b[0;32m    162\u001b[0m \u001b[38;5;28;01massert\u001b[39;00m QCallable\u001b[38;5;241m.\u001b[39mCURRENT_EXPANDABLE \u001b[38;5;129;01mis\u001b[39;00m \u001b[38;5;129;01mnot\u001b[39;00m \u001b[38;5;28;01mNone\u001b[39;00m\n\u001b[0;32m    163\u001b[0m source_ref \u001b[38;5;241m=\u001b[39m get_source_ref(sys\u001b[38;5;241m.\u001b[39m_getframe(\u001b[38;5;241m1\u001b[39m))\n\u001b[0;32m    164\u001b[0m control_stmt \u001b[38;5;241m=\u001b[39m Control(\n\u001b[0;32m    165\u001b[0m     expression\u001b[38;5;241m=\u001b[39mExpression(expr\u001b[38;5;241m=\u001b[39m\u001b[38;5;28mstr\u001b[39m(ctrl)),\n\u001b[1;32m--> 166\u001b[0m     body\u001b[38;5;241m=\u001b[39m\u001b[43m_operand_to_body\u001b[49m\u001b[43m(\u001b[49m\u001b[43mstmt_block\u001b[49m\u001b[43m,\u001b[49m\u001b[43m \u001b[49m\u001b[38;5;124;43m\"\u001b[39;49m\u001b[38;5;124;43mstmt_block\u001b[39;49m\u001b[38;5;124;43m\"\u001b[39;49m\u001b[43m)\u001b[49m,\n\u001b[0;32m    167\u001b[0m     else_block\u001b[38;5;241m=\u001b[39m_operand_to_body(else_block, \u001b[38;5;124m\"\u001b[39m\u001b[38;5;124melse_block\u001b[39m\u001b[38;5;124m\"\u001b[39m) \u001b[38;5;28;01mif\u001b[39;00m else_block \u001b[38;5;28;01melse\u001b[39;00m \u001b[38;5;28;01mNone\u001b[39;00m,\n\u001b[0;32m    168\u001b[0m     source_ref\u001b[38;5;241m=\u001b[39msource_ref,\n\u001b[0;32m    169\u001b[0m )\n\u001b[0;32m    170\u001b[0m \u001b[38;5;28;01mif\u001b[39;00m is_generative_mode():\n\u001b[0;32m    171\u001b[0m     control_stmt\u001b[38;5;241m.\u001b[39mset_generative_block(\u001b[38;5;124m\"\u001b[39m\u001b[38;5;124mbody\u001b[39m\u001b[38;5;124m\"\u001b[39m, stmt_block)\n",
      "File \u001b[1;32mc:\\Users\\Aravind\\college\\quantum\\venv\\Lib\\site-packages\\classiq\\qmod\\builtins\\operations.py:431\u001b[0m, in \u001b[0;36m_operand_to_body\u001b[1;34m(callable_, param_name)\u001b[0m\n\u001b[0;32m    423\u001b[0m \u001b[38;5;28;01mif\u001b[39;00m (\n\u001b[0;32m    424\u001b[0m     \u001b[38;5;28misinstance\u001b[39m(callable_, QCallable)\n\u001b[0;32m    425\u001b[0m     \u001b[38;5;129;01mand\u001b[39;00m \u001b[38;5;28mlen\u001b[39m(callable_\u001b[38;5;241m.\u001b[39mfunc_decl\u001b[38;5;241m.\u001b[39mpositional_arg_declarations) \u001b[38;5;241m>\u001b[39m \u001b[38;5;241m0\u001b[39m\n\u001b[0;32m    426\u001b[0m ):\n\u001b[0;32m    427\u001b[0m     \u001b[38;5;28;01mraise\u001b[39;00m ClassiqValueError(\n\u001b[0;32m    428\u001b[0m         \u001b[38;5;124mf\u001b[39m\u001b[38;5;124m\"\u001b[39m\u001b[38;5;124mCallable argument \u001b[39m\u001b[38;5;132;01m{\u001b[39;00mcallable_\u001b[38;5;241m.\u001b[39mfunc_decl\u001b[38;5;241m.\u001b[39mname\u001b[38;5;132;01m!r}\u001b[39;00m\u001b[38;5;124m to \u001b[39m\u001b[38;5;132;01m{\u001b[39;00mop_name\u001b[38;5;132;01m!r}\u001b[39;00m\u001b[38;5;124m should \u001b[39m\u001b[38;5;124m\"\u001b[39m\n\u001b[0;32m    429\u001b[0m         \u001b[38;5;124mf\u001b[39m\u001b[38;5;124m\"\u001b[39m\u001b[38;5;124mnot accept arguments.\u001b[39m\u001b[38;5;124m\"\u001b[39m\n\u001b[0;32m    430\u001b[0m     )\n\u001b[1;32m--> 431\u001b[0m to_operand \u001b[38;5;241m=\u001b[39m \u001b[43mprepare_arg\u001b[49m\u001b[43m(\u001b[49m\n\u001b[0;32m    432\u001b[0m \u001b[43m    \u001b[49m\u001b[43mQuantumOperandDeclaration\u001b[49m\u001b[43m(\u001b[49m\u001b[43mname\u001b[49m\u001b[38;5;241;43m=\u001b[39;49m\u001b[38;5;124;43m\"\u001b[39;49m\u001b[38;5;124;43m\"\u001b[39;49m\u001b[43m)\u001b[49m\u001b[43m,\u001b[49m\u001b[43m \u001b[49m\u001b[43mcallable_\u001b[49m\u001b[43m,\u001b[49m\u001b[43m \u001b[49m\u001b[43mop_name\u001b[49m\u001b[43m,\u001b[49m\u001b[43m \u001b[49m\u001b[43mparam_name\u001b[49m\n\u001b[0;32m    433\u001b[0m \u001b[43m\u001b[49m\u001b[43m)\u001b[49m\n\u001b[0;32m    434\u001b[0m \u001b[38;5;28;01mif\u001b[39;00m \u001b[38;5;28misinstance\u001b[39m(to_operand, \u001b[38;5;28mstr\u001b[39m):\n\u001b[0;32m    435\u001b[0m     \u001b[38;5;28;01mreturn\u001b[39;00m [QuantumFunctionCall(function\u001b[38;5;241m=\u001b[39mto_operand)]\n",
      "File \u001b[1;32mc:\\Users\\Aravind\\college\\quantum\\venv\\Lib\\site-packages\\classiq\\qmod\\quantum_expandable.py:359\u001b[0m, in \u001b[0;36mprepare_arg\u001b[1;34m(arg_decl, val, func_name, param_name)\u001b[0m\n\u001b[0;32m    357\u001b[0m new_arg_decl \u001b[38;5;241m=\u001b[39m decl_without_type_attributes(arg_decl)\n\u001b[0;32m    358\u001b[0m val \u001b[38;5;241m=\u001b[39m QLambdaFunction(new_arg_decl, val)\n\u001b[1;32m--> 359\u001b[0m \u001b[43mval\u001b[49m\u001b[38;5;241;43m.\u001b[39;49m\u001b[43mexpand\u001b[49m\u001b[43m(\u001b[49m\u001b[43m)\u001b[49m\n\u001b[0;32m    360\u001b[0m qlambda \u001b[38;5;241m=\u001b[39m QuantumLambdaFunction(\n\u001b[0;32m    361\u001b[0m     pos_rename_params\u001b[38;5;241m=\u001b[39mval\u001b[38;5;241m.\u001b[39minfer_rename_params(),\n\u001b[0;32m    362\u001b[0m     body\u001b[38;5;241m=\u001b[39mval\u001b[38;5;241m.\u001b[39mbody,\n\u001b[0;32m    363\u001b[0m )\n\u001b[0;32m    364\u001b[0m \u001b[38;5;28;01mif\u001b[39;00m is_generative_mode():\n",
      "File \u001b[1;32mc:\\Users\\Aravind\\college\\quantum\\venv\\Lib\\site-packages\\classiq\\qmod\\quantum_expandable.py:198\u001b[0m, in \u001b[0;36mQLambdaFunction.expand\u001b[1;34m(self)\u001b[0m\n\u001b[0;32m    196\u001b[0m \u001b[38;5;28;01mdef\u001b[39;00m \u001b[38;5;21mexpand\u001b[39m(\u001b[38;5;28mself\u001b[39m) \u001b[38;5;241m-\u001b[39m\u001b[38;5;241m>\u001b[39m \u001b[38;5;28;01mNone\u001b[39;00m:\n\u001b[0;32m    197\u001b[0m     \u001b[38;5;28;01mif\u001b[39;00m \u001b[38;5;129;01mnot\u001b[39;00m is_generative_mode():\n\u001b[1;32m--> 198\u001b[0m         \u001b[38;5;28;43msuper\u001b[39;49m\u001b[43m(\u001b[49m\u001b[43m)\u001b[49m\u001b[38;5;241;43m.\u001b[39;49m\u001b[43mexpand\u001b[49m\u001b[43m(\u001b[49m\u001b[43m)\u001b[49m\n",
      "File \u001b[1;32mc:\\Users\\Aravind\\college\\quantum\\venv\\Lib\\site-packages\\classiq\\qmod\\quantum_expandable.py:115\u001b[0m, in \u001b[0;36mQExpandable.expand\u001b[1;34m(self)\u001b[0m\n\u001b[0;32m    113\u001b[0m \u001b[38;5;28;01mif\u001b[39;00m \u001b[38;5;28mself\u001b[39m \u001b[38;5;129;01mnot\u001b[39;00m \u001b[38;5;129;01min\u001b[39;00m QExpandable\u001b[38;5;241m.\u001b[39mSTACK:\n\u001b[0;32m    114\u001b[0m     \u001b[38;5;28;01mwith\u001b[39;00m \u001b[38;5;28mself\u001b[39m, generative_mode_context(\u001b[38;5;28;01mFalse\u001b[39;00m):\n\u001b[1;32m--> 115\u001b[0m         \u001b[38;5;28;43mself\u001b[39;49m\u001b[38;5;241;43m.\u001b[39;49m\u001b[43m_py_callable\u001b[49m\u001b[43m(\u001b[49m\u001b[38;5;241;43m*\u001b[39;49m\u001b[38;5;28;43mself\u001b[39;49m\u001b[38;5;241;43m.\u001b[39;49m\u001b[43m_get_positional_args\u001b[49m\u001b[43m(\u001b[49m\u001b[43m)\u001b[49m\u001b[43m)\u001b[49m\n",
      "Cell \u001b[1;32mIn[13], line 15\u001b[0m, in \u001b[0;36mgenerate_alice_qubits.<locals>.<lambda>\u001b[1;34m()\u001b[0m\n\u001b[0;32m     12\u001b[0m hadamard_transform(bases)\n\u001b[0;32m     14\u001b[0m \u001b[38;5;66;03m# Prepare Alice's qubits based on random bases\u001b[39;00m\n\u001b[1;32m---> 15\u001b[0m repeat(\u001b[38;5;241m8\u001b[39m, \u001b[38;5;28;01mlambda\u001b[39;00m i: control(bases[i], \u001b[38;5;28;01mlambda\u001b[39;00m: \u001b[43mx\u001b[49m\u001b[43m[\u001b[49m\u001b[43mi\u001b[49m\u001b[43m]\u001b[49m\u001b[38;5;241;43m.\u001b[39;49m\u001b[43mh\u001b[49m()))\n",
      "\u001b[1;31mAttributeError\u001b[0m: 'QBit' object has no attribute 'h'"
     ]
    }
   ],
   "source": [
    "from classiq import *\n",
    "\n",
    "@qfunc\n",
    "def generate_alice_qubits(x: Output[QArray[8]], bases: Output[QArray[8]]) -> None:\n",
    "    \"\"\"\n",
    "    Generate Alice's qubits with random states and bases.\n",
    "    \"\"\"\n",
    "    allocate(x)      # Allocate 8 qubits for Alice's key\n",
    "    allocate(bases)  # Allocate 8 qubits for Alice's bases\n",
    "    \n",
    "    # Randomize Alice's bases\n",
    "    apply(H, bases)  \n",
    "    \n",
    "    # Prepare Alice's qubits based on random bases\n",
    "    repeat(8, lambda i: control(bases[i], lambda: apply(H, x[i])))\n",
    "\n",
    "@qfunc\n",
    "def measure_bob_qubits(x: Input[QArray[8]], bases: Output[QArray[8]], results: Output[CArray[8]]) -> None:\n",
    "    \"\"\"\n",
    "    Bob measures Alice's qubits using his randomly chosen bases.\n",
    "    \"\"\"\n",
    "    allocate(bases)  # Allocate 8 qubits for Bob's measurement bases\n",
    "    allocate(results)  # Allocate 8 classical bits for Bob's results\n",
    "\n",
    "    # Bob generates random measurement bases\n",
    "    apply(H, bases)\n",
    "\n",
    "    # Apply Hadamard to qubits where Bob's basis is 1\n",
    "    repeat(8, lambda i: control(bases[i], lambda: apply(H, x[i])))\n",
    "\n",
    "    # Measure the entire QArray at once\n",
    "    measure_qarray(x, results)\n",
    "\n",
    "def bb84_key_distribution():\n",
    "    \"\"\"\n",
    "    Simulate BB84 Quantum Key Distribution Protocol.\n",
    "    \"\"\"\n",
    "    # Define the quantum function\n",
    "    @qfunc\n",
    "    def main(\n",
    "        alice_states: Output[QArray[8]], \n",
    "        alice_bases: Output[QArray[8]], \n",
    "        bob_bases: Output[QArray[8]], \n",
    "        bob_results: Output[CArray[8]]\n",
    "    ) -> None:\n",
    "        # Alice generates qubits\n",
    "        generate_alice_qubits(alice_states, alice_bases)\n",
    "        \n",
    "        # Bob measures the qubits\n",
    "        measure_bob_qubits(alice_states, bob_bases, bob_results)\n",
    "    \n",
    "    # Create and synthesize the quantum model\n",
    "    qmod = create_model(main)\n",
    "    qprog = synthesize(qmod)\n",
    "    \n",
    "    # Execute the quantum program\n",
    "    job = execute(qprog)\n",
    "    result = job.get_sample_result()\n",
    "    \n",
    "    # Parse results\n",
    "    alice_states = result.parsed_outputs['alice_states']\n",
    "    alice_bases = result.parsed_outputs['alice_bases']\n",
    "    bob_bases = result.parsed_outputs['bob_bases']\n",
    "    bob_results = result.parsed_outputs['bob_results']\n",
    "    \n",
    "    # Perform key sifting (only matching bases contribute to the shared key)\n",
    "    shared_key = [bob_results[i] for i in range(8) if alice_bases[i] == bob_bases[i]]\n",
    "    \n",
    "    print(\"Alice's Original States:\", alice_states)\n",
    "    print(\"Alice's Bases:\", alice_bases)\n",
    "    print(\"Bob's Bases:\", bob_bases)\n",
    "    print(\"Bob's Measurement Results:\", bob_results)\n",
    "    print(\"Shared Key after Sifting:\", shared_key)\n",
    "    print(\"Shared Key Length:\", len(shared_key))\n",
    "\n",
    "# Run the BB84 simulation\n",
    "bb84_key_distribution()\n"
   ]
  }
 ],
 "metadata": {
  "kernelspec": {
   "display_name": "venv",
   "language": "python",
   "name": "python3"
  },
  "language_info": {
   "codemirror_mode": {
    "name": "ipython",
    "version": 3
   },
   "file_extension": ".py",
   "mimetype": "text/x-python",
   "name": "python",
   "nbconvert_exporter": "python",
   "pygments_lexer": "ipython3",
   "version": "3.11.5"
  }
 },
 "nbformat": 4,
 "nbformat_minor": 2
}
